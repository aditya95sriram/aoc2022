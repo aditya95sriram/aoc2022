{
 "cells": [
  {
   "cell_type": "code",
   "execution_count": 124,
   "metadata": {},
   "outputs": [],
   "source": [
    "import re, os, sys\n",
    "from functools import reduce\n",
    "from itertools import combinations as comb, permutations as perm, combinations_with_replacement as combr\n",
    "from operator import itemgetter\n",
    "from pprint import pprint\n",
    "from math import *\n",
    "from collections import defaultdict\n",
    "import networkx as nx\n",
    "import numpy as np\n",
    "\n",
    "def dprint(d):\n",
    "    pprint(dict(d))\n",
    "def lmap(*args, **kwargs):\n",
    "    return list(map(*args, **kwargs))\n",
    "def lmapi(*args, **kwargs):\n",
    "    return list(map(int, *args, **kwargs))\n",
    "def enum(*args, **kwargs):\n",
    "    return enumerate(*args, **kwargs)"
   ]
  },
  {
   "cell_type": "code",
   "execution_count": 125,
   "metadata": {},
   "outputs": [],
   "source": [
    "input_fname = \"../inputs/day24-demo.in\""
   ]
  },
  {
   "cell_type": "code",
   "execution_count": 126,
   "metadata": {},
   "outputs": [],
   "source": [
    "input_fname = \"../inputs/day24.in\""
   ]
  },
  {
   "cell_type": "code",
   "execution_count": 127,
   "metadata": {},
   "outputs": [
    {
     "data": {
      "text/plain": [
       "(25, 120, [(1, 0j), (1j, (1+0j)), (1, (2+0j)), ((-0-1j), (3+0j)), (1, (4+0j))])"
      ]
     },
     "execution_count": 127,
     "metadata": {},
     "output_type": "execute_result"
    }
   ],
   "source": [
    "def reread():\n",
    "    lines = []\n",
    "    with open(input_fname) as ifile:\n",
    "        rows = []\n",
    "        bliz = []\n",
    "        for i, line in enum(ifile, start=-1):\n",
    "            row = []\n",
    "            for j, e in enum(line.strip(), start=-1):\n",
    "                if e == \"#\": \n",
    "                    # continue\n",
    "                    row.append(1)\n",
    "                else:\n",
    "                    row.append(0)\n",
    "                    if e == \">\":\n",
    "                        bliz.append((1, j+i*1j))\n",
    "                    elif e == \"<\":\n",
    "                        bliz.append((-1, j+i*1j))\n",
    "                    elif e == \"^\":\n",
    "                        bliz.append((-1j, j+i*1j))\n",
    "                    elif e == \"v\":\n",
    "                        bliz.append((1j, j+i*1j))\n",
    "            rows.append(row)\n",
    "    return len(rows)-2, len(rows[0])-2, bliz\n",
    "\n",
    "H, W, BLIZ = reread()\n",
    "H, W, BLIZ[:5]"
   ]
  },
  {
   "cell_type": "code",
   "execution_count": 128,
   "metadata": {},
   "outputs": [],
   "source": [
    "def move(face, bpos):\n",
    "    npos = bpos + face\n",
    "    return (npos.real % W) + (npos.imag % H)*1j"
   ]
  },
  {
   "cell_type": "code",
   "execution_count": 129,
   "metadata": {},
   "outputs": [],
   "source": [
    "def update_bliz(bliz):\n",
    "    return [(face, move(face, bpos)) for face, bpos in bliz]"
   ]
  },
  {
   "cell_type": "code",
   "execution_count": 130,
   "metadata": {},
   "outputs": [],
   "source": [
    "def isvalid(pos):\n",
    "    return (0 <= pos.real < W) and (0 <= pos.imag < H)"
   ]
  },
  {
   "attachments": {},
   "cell_type": "markdown",
   "metadata": {},
   "source": [
    "## Part 1"
   ]
  },
  {
   "cell_type": "code",
   "execution_count": 131,
   "metadata": {},
   "outputs": [],
   "source": [
    "from tqdm import trange"
   ]
  },
  {
   "cell_type": "code",
   "execution_count": null,
   "metadata": {},
   "outputs": [],
   "source": [
    "period = 5*lcm(W, H)\n",
    "d = nx.DiGraph()\n",
    "bliz = update_bliz(BLIZ)\n",
    "delta = (0, 1, -1, 1j, -1j)\n",
    "for p in trange(period):\n",
    "    newp = (p+2)%period\n",
    "    nbliz = update_bliz(bliz)\n",
    "    bposes = set(map(itemgetter(1), nbliz))\n",
    "    for y in range(H):\n",
    "        for x in range(W):\n",
    "            pos = x+y*1j\n",
    "            nposes = {pos + d for d in delta if isvalid(pos+d)}\n",
    "            print(\"for\", x, y, \"at\", p+1, \"available:\", nposes - bposes)\n",
    "            for npos in nposes - bposes:\n",
    "                newx, newy = int(npos.real), int(npos.imag)\n",
    "                d.add_edge((p+1, x, y), (newp, newx, newy))\n",
    "    bliz = nbliz"
   ]
  },
  {
   "cell_type": "code",
   "execution_count": 127,
   "metadata": {},
   "outputs": [
    {
     "data": {
      "text/plain": [
       "1317"
      ]
     },
     "execution_count": 127,
     "metadata": {},
     "output_type": "execute_result"
    }
   ],
   "source": [
    "d.number_of_edges()"
   ]
  },
  {
   "cell_type": "code",
   "execution_count": 98,
   "metadata": {},
   "outputs": [
    {
     "name": "stderr",
     "output_type": "stream",
     "text": [
      " 42%|████▏     | 254/598 [00:57<01:17,  4.43it/s]"
     ]
    },
    {
     "name": "stdout",
     "output_type": "stream",
     "text": [
      "found path for i 256\n"
     ]
    },
    {
     "name": "stderr",
     "output_type": "stream",
     "text": [
      "\n"
     ]
    }
   ],
   "source": [
    "start = (1, 0, 0)\n",
    "end = (W-1, H-1)\n",
    "for i in trange(2,600):\n",
    "    tend = (i%period,) + end\n",
    "    if tend in d and nx.has_path(d, start, tend):\n",
    "        print(\"found path for i\", i)\n",
    "        break\n",
    "else:\n",
    "    print(\"didn't find any paths\")"
   ]
  },
  {
   "cell_type": "markdown",
   "metadata": {},
   "source": [
    "## Part 2"
   ]
  },
  {
   "attachments": {},
   "cell_type": "markdown",
   "metadata": {},
   "source": [
    "## Faster version (WIP)\n",
    "(with adjacency matrix based walk counting)"
   ]
  },
  {
   "cell_type": "code",
   "execution_count": 8,
   "metadata": {},
   "outputs": [],
   "source": [
    "# coordinate tranformation helper funcs\n",
    "period = lcm(W, H)\n",
    "def c2i(t, x, y):\n",
    "    return y*period*W + x*period + t\n",
    "def i2c(i):\n",
    "    t = i % period\n",
    "    i = i // period\n",
    "    x = i % W\n",
    "    i = i // W\n",
    "    y = i\n",
    "    return t, x, y"
   ]
  },
  {
   "cell_type": "code",
   "execution_count": 30,
   "metadata": {},
   "outputs": [
    {
     "name": "stderr",
     "output_type": "stream",
     "text": [
      "100%|██████████| 12/12 [00:00<00:00, 4960.74it/s]\n"
     ]
    }
   ],
   "source": [
    "# construct adjacency matrix and blizzard-free matrix\n",
    "dim = period * W * H\n",
    "ar = np.zeros((dim, dim), dtype=int)\n",
    "bfm = np.ones((period, W, H), dtype=bool)\n",
    "bliz = BLIZ.copy()\n",
    "delta = (0, 1, -1, 1j, -1j)\n",
    "for p in trange(period):\n",
    "    newp = (p+1)%period\n",
    "    bposes = set(map(itemgetter(1), bliz))\n",
    "    nbliz = update_bliz(bliz)\n",
    "    nbposes = set(map(itemgetter(1), nbliz))\n",
    "    for y in range(H):\n",
    "        for x in range(W):\n",
    "            pos = x+y*1j\n",
    "            if pos in bposes: \n",
    "                bfm[p,x,y] = False\n",
    "                continue\n",
    "            nposes = {pos + d for d in delta if isvalid(pos+d)}\n",
    "            # print(\"for\", x, y, \"at\", p+1, \"available:\", nposes - nbposes)\n",
    "            for npos in nposes - nbposes:\n",
    "                newx, newy = int(npos.real), int(npos.imag)\n",
    "                ar[c2i(p, x, y), c2i(newp, newx, newy)] = 1\n",
    "    bliz = nbliz"
   ]
  },
  {
   "cell_type": "code",
   "execution_count": 31,
   "metadata": {},
   "outputs": [],
   "source": [
    "i1 = c2i(0, W-1, H-1)\n",
    "i2 = c2i(period-1, W-1, H-1)"
   ]
  },
  {
   "cell_type": "code",
   "execution_count": 32,
   "metadata": {},
   "outputs": [],
   "source": [
    "from numpy.linalg import matrix_power"
   ]
  },
  {
   "cell_type": "code",
   "execution_count": 33,
   "metadata": {},
   "outputs": [
    {
     "data": {
      "text/plain": [
       "array([0, 0, 0, 0, 0, 2, 0, 0, 0, 0, 0, 0])"
      ]
     },
     "execution_count": 33,
     "metadata": {},
     "output_type": "execute_result"
    }
   ],
   "source": [
    "matrix_power(ar, 16)[c2i(1, 0, 0),i1:i2+1]"
   ]
  },
  {
   "cell_type": "code",
   "execution_count": 34,
   "metadata": {},
   "outputs": [
    {
     "data": {
      "text/plain": [
       "1"
      ]
     },
     "execution_count": 34,
     "metadata": {},
     "output_type": "execute_result"
    }
   ],
   "source": [
    "matrix_power(ar, 2)[c2i(2, 5, 3), c2i(4,5,1)]"
   ]
  },
  {
   "cell_type": "code",
   "execution_count": 38,
   "metadata": {},
   "outputs": [
    {
     "data": {
      "text/plain": [
       "[(0, False),\n",
       " (1, False),\n",
       " (2, True),\n",
       " (3, True),\n",
       " (4, True),\n",
       " (5, True),\n",
       " (6, False),\n",
       " (7, False),\n",
       " (8, True),\n",
       " (9, True),\n",
       " (10, True),\n",
       " (11, True)]"
      ]
     },
     "execution_count": 38,
     "metadata": {},
     "output_type": "execute_result"
    }
   ],
   "source": [
    "list(enum(bfm[:,5,3]))"
   ]
  },
  {
   "cell_type": "code",
   "execution_count": 73,
   "metadata": {},
   "outputs": [
    {
     "data": {
      "text/plain": [
       "1"
      ]
     },
     "execution_count": 73,
     "metadata": {},
     "output_type": "execute_result"
    }
   ],
   "source": [
    "ar[c2i(8,5,3),c2i(9,5,2)]"
   ]
  },
  {
   "cell_type": "code",
   "execution_count": 75,
   "metadata": {},
   "outputs": [
    {
     "data": {
      "text/plain": [
       "0"
      ]
     },
     "execution_count": 75,
     "metadata": {},
     "output_type": "execute_result"
    }
   ],
   "source": [
    "matrix_power(ar, 21)[c2i(9,5,3), c2i(5,0,0)]"
   ]
  },
  {
   "cell_type": "code",
   "execution_count": 102,
   "metadata": {},
   "outputs": [],
   "source": [
    "def find_time(start, end, tstart):\n",
    "    start = (tstart%period,) + start\n",
    "    i1 = c2i(0, *end)\n",
    "    i2 = c2i(period-1, *end)\n",
    "    mar = ar.copy()\n",
    "    for delta in range(1,1000):\n",
    "        mar = mar @ ar\n",
    "        if np.any(mar[c2i(*start), i1:i2+1]):\n",
    "            fi = np.nonzero(mar[c2i(*start), i1:i2+1])[0][0]\n",
    "            print(i2c(i1+fi))\n",
    "            print(mar[c2i(*start), i1:i2+1])\n",
    "            return delta\n",
    "    return None"
   ]
  },
  {
   "cell_type": "code",
   "execution_count": 97,
   "metadata": {},
   "outputs": [
    {
     "name": "stdout",
     "output_type": "stream",
     "text": [
      "(5, 5, 3)\n",
      "[0 0 0 0 0 2 0 0 0 0 0 0]\n"
     ]
    },
    {
     "data": {
      "text/plain": [
       "15"
      ]
     },
     "execution_count": 97,
     "metadata": {},
     "output_type": "execute_result"
    }
   ],
   "source": [
    "find_time((0, 0), (W-1, H-1), 1)"
   ]
  },
  {
   "cell_type": "code",
   "execution_count": 104,
   "metadata": {},
   "outputs": [
    {
     "name": "stdout",
     "output_type": "stream",
     "text": [
      "(4, 0, 0)\n",
      "[ 0  0  0  0 10  0  0  0  0  0  0  0]\n",
      "15\n",
      "(4, 0, 0)\n",
      "[ 0  0  0  0 10  0  0  0  0  0  0  0]\n",
      "14\n"
     ]
    },
    {
     "ename": "KeyboardInterrupt",
     "evalue": "",
     "output_type": "error",
     "traceback": [
      "\u001b[0;31m---------------------------------------------------------------------------\u001b[0m",
      "\u001b[0;31mKeyboardInterrupt\u001b[0m                         Traceback (most recent call last)",
      "Cell \u001b[0;32mIn[104], line 2\u001b[0m\n\u001b[1;32m      1\u001b[0m \u001b[39mfor\u001b[39;00m i \u001b[39min\u001b[39;00m \u001b[39mrange\u001b[39m(period):\n\u001b[0;32m----> 2\u001b[0m     \u001b[39mprint\u001b[39m(find_time((W\u001b[39m-\u001b[39;49m\u001b[39m1\u001b[39;49m,H\u001b[39m-\u001b[39;49m\u001b[39m1\u001b[39;49m), (\u001b[39m0\u001b[39;49m, \u001b[39m0\u001b[39;49m), i))\n",
      "Cell \u001b[0;32mIn[102], line 8\u001b[0m, in \u001b[0;36mfind_time\u001b[0;34m(start, end, tstart)\u001b[0m\n\u001b[1;32m      6\u001b[0m \u001b[39mfor\u001b[39;00m delta \u001b[39min\u001b[39;00m \u001b[39mrange\u001b[39m(\u001b[39m1\u001b[39m,\u001b[39m1000\u001b[39m):\n\u001b[1;32m      7\u001b[0m     mar \u001b[39m=\u001b[39m mar \u001b[39m@\u001b[39m ar\n\u001b[0;32m----> 8\u001b[0m     \u001b[39mif\u001b[39;00m np\u001b[39m.\u001b[39many(mar[c2i(\u001b[39m*\u001b[39;49mstart), i1:i2\u001b[39m+\u001b[39m\u001b[39m1\u001b[39m]):\n\u001b[1;32m      9\u001b[0m         fi \u001b[39m=\u001b[39m np\u001b[39m.\u001b[39mnonzero(mar[c2i(\u001b[39m*\u001b[39mstart), i1:i2\u001b[39m+\u001b[39m\u001b[39m1\u001b[39m])[\u001b[39m0\u001b[39m][\u001b[39m0\u001b[39m]\n\u001b[1;32m     10\u001b[0m         \u001b[39mprint\u001b[39m(i2c(i1\u001b[39m+\u001b[39mfi))\n",
      "Cell \u001b[0;32mIn[91], line 3\u001b[0m, in \u001b[0;36mc2i\u001b[0;34m(t, x, y)\u001b[0m\n\u001b[1;32m      1\u001b[0m \u001b[39m# coordinate tranformation helper funcs\u001b[39;00m\n\u001b[1;32m      2\u001b[0m period \u001b[39m=\u001b[39m lcm(W, H)\n\u001b[0;32m----> 3\u001b[0m \u001b[39mdef\u001b[39;00m \u001b[39mc2i\u001b[39m(t, x, y):\n\u001b[1;32m      4\u001b[0m     \u001b[39mreturn\u001b[39;00m y\u001b[39m*\u001b[39mperiod\u001b[39m*\u001b[39mW \u001b[39m+\u001b[39m x\u001b[39m*\u001b[39mperiod \u001b[39m+\u001b[39m t\n\u001b[1;32m      5\u001b[0m \u001b[39mdef\u001b[39;00m \u001b[39mi2c\u001b[39m(i):\n",
      "\u001b[0;31mKeyboardInterrupt\u001b[0m: "
     ]
    }
   ],
   "source": [
    "for i in range(period):\n",
    "    print(i, find_time((W-1,H-1), (0, 0), i))"
   ]
  },
  {
   "attachments": {},
   "cell_type": "markdown",
   "metadata": {},
   "source": [
    "## Better graph based version"
   ]
  },
  {
   "cell_type": "code",
   "execution_count": 132,
   "metadata": {},
   "outputs": [
    {
     "name": "stderr",
     "output_type": "stream",
     "text": [
      "100%|██████████| 600/600 [00:10<00:00, 54.70it/s]\n"
     ]
    }
   ],
   "source": [
    "period = lcm(W, H)\n",
    "d = nx.DiGraph()\n",
    "bliz = BLIZ.copy()\n",
    "delta = (0, 1, -1, 1j, -1j)\n",
    "for p in trange(period):\n",
    "    nxtp = (p+1)%period\n",
    "    blizlocs = set(map(itemgetter(1), bliz))\n",
    "    nxtbliz = update_bliz(bliz)\n",
    "    nxtblizlocs = set(map(itemgetter(1), nxtbliz))\n",
    "\n",
    "    # src and dst\n",
    "    d.add_edge((p, \"src\"), (nxtp, \"src\"))\n",
    "    d.add_edge((p, \"dst\"), (nxtp, \"dst\"))\n",
    "    nsrc, ndst = 0+0j, (W-1)+(H-1)*1j\n",
    "    if nsrc not in blizlocs:\n",
    "        d.add_edge((p, 0, 0), (nxtp, \"src\"))\n",
    "    if nsrc not in nxtblizlocs:\n",
    "        d.add_edge((p, \"src\"), (nxtp, 0, 0))\n",
    "    if ndst not in blizlocs:\n",
    "        d.add_edge((p, W-1, H-1), (nxtp, \"dst\"))\n",
    "    if ndst not in nxtblizlocs:\n",
    "        d.add_edge((p, \"dst\"), (nxtp, W-1, H-1))\n",
    "\n",
    "    # between other locations\n",
    "    for y in range(H):\n",
    "        for x in range(W):\n",
    "            pos = x+y*1j\n",
    "            d.add_node(pos)\n",
    "            if pos in blizlocs: continue\n",
    "            nxtposes = {pos + d for d in delta if isvalid(pos+d)}\n",
    "            # print(\"for\", x, y, \"at\", p+1, \"available:\", nposes - nxtblizlocs)\n",
    "            for nxtpos in nxtposes - nxtblizlocs:\n",
    "                nxtx, nxty = int(nxtpos.real), int(nxtpos.imag)\n",
    "                d.add_edge((p, x, y), (nxtp, nxtx, nxty))\n",
    "    bliz = nxtbliz"
   ]
  },
  {
   "cell_type": "code",
   "execution_count": 133,
   "metadata": {},
   "outputs": [
    {
     "data": {
      "text/plain": [
       "618"
      ]
     },
     "execution_count": 133,
     "metadata": {},
     "output_type": "execute_result"
    }
   ],
   "source": [
    "nx.shortest_path_length(d, (0, \"src\"), (18, \"dst\"))"
   ]
  },
  {
   "cell_type": "code",
   "execution_count": 108,
   "metadata": {},
   "outputs": [
    {
     "data": {
      "text/plain": [
       "23"
      ]
     },
     "execution_count": 108,
     "metadata": {},
     "output_type": "execute_result"
    }
   ],
   "source": [
    "nx.shortest_path_length(d, (18, \"dst\"), (41%24, \"src\"))"
   ]
  },
  {
   "cell_type": "code",
   "execution_count": 135,
   "metadata": {},
   "outputs": [],
   "source": [
    "def find_time(tstart, startpt, endpt):\n",
    "    start = (tstart%period, startpt)\n",
    "    for delta in trange(period):\n",
    "        end = ((tstart+delta)%period, endpt)\n",
    "        l = nx.shortest_path_length(d, start, end)\n",
    "        if l == delta:\n",
    "            return delta\n",
    "    return -1"
   ]
  },
  {
   "cell_type": "code",
   "execution_count": 136,
   "metadata": {},
   "outputs": [
    {
     "name": "stderr",
     "output_type": "stream",
     "text": [
      " 43%|████▎     | 257/600 [02:38<03:31,  1.62it/s]\n"
     ]
    },
    {
     "data": {
      "text/plain": [
       "257"
      ]
     },
     "execution_count": 136,
     "metadata": {},
     "output_type": "execute_result"
    }
   ],
   "source": [
    "find_time(0, \"src\", \"dst\")"
   ]
  },
  {
   "cell_type": "code",
   "execution_count": 137,
   "metadata": {},
   "outputs": [
    {
     "name": "stderr",
     "output_type": "stream",
     "text": [
      " 51%|█████     | 307/600 [02:55<02:47,  1.75it/s]\n"
     ]
    },
    {
     "data": {
      "text/plain": [
       "307"
      ]
     },
     "execution_count": 137,
     "metadata": {},
     "output_type": "execute_result"
    }
   ],
   "source": [
    "find_time(257, \"dst\", \"src\")"
   ]
  },
  {
   "cell_type": "code",
   "execution_count": 138,
   "metadata": {},
   "outputs": [
    {
     "name": "stderr",
     "output_type": "stream",
     "text": [
      " 44%|████▍     | 264/600 [02:38<03:21,  1.67it/s]\n"
     ]
    },
    {
     "data": {
      "text/plain": [
       "264"
      ]
     },
     "execution_count": 138,
     "metadata": {},
     "output_type": "execute_result"
    }
   ],
   "source": [
    "find_time(257+307, \"src\", \"dst\")"
   ]
  },
  {
   "cell_type": "code",
   "execution_count": 139,
   "metadata": {},
   "outputs": [
    {
     "data": {
      "text/plain": [
       "828"
      ]
     },
     "execution_count": 139,
     "metadata": {},
     "output_type": "execute_result"
    }
   ],
   "source": [
    "257+307+264"
   ]
  },
  {
   "cell_type": "code",
   "execution_count": 122,
   "metadata": {},
   "outputs": [],
   "source": [
    "def find_total_time():\n",
    "    t1 = find_time(0, \"src\", \"dst\")\n",
    "    t2 = find_time(t1, \"dst\", \"src\")\n",
    "    t3 = find_time(t1+t2, \"src\", \"dst\")\n",
    "    return t1 + t2 + t3"
   ]
  },
  {
   "cell_type": "code",
   "execution_count": 123,
   "metadata": {},
   "outputs": [
    {
     "data": {
      "text/plain": [
       "54"
      ]
     },
     "execution_count": 123,
     "metadata": {},
     "output_type": "execute_result"
    }
   ],
   "source": [
    "find_total_time()"
   ]
  }
 ],
 "metadata": {
  "kernelspec": {
   "display_name": "local-venv",
   "language": "python",
   "name": "local-venv"
  },
  "language_info": {
   "codemirror_mode": {
    "name": "ipython",
    "version": 3
   },
   "file_extension": ".py",
   "mimetype": "text/x-python",
   "name": "python",
   "nbconvert_exporter": "python",
   "pygments_lexer": "ipython3",
   "version": "3.10.6"
  },
  "orig_nbformat": 4
 },
 "nbformat": 4,
 "nbformat_minor": 2
}
