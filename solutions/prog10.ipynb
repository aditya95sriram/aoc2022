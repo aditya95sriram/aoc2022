{
 "cells": [
  {
   "cell_type": "code",
   "execution_count": 1,
   "metadata": {},
   "outputs": [],
   "source": [
    "import re, os, sys\n",
    "from functools import reduce\n",
    "from itertools import combinations as comb, permutations as perm, combinations_with_replacement as combr\n",
    "from operator import itemgetter\n",
    "from pprint import pprint\n",
    "from math import *\n",
    "from collections import defaultdict\n",
    "import networkx as nx\n",
    "import numpy as np\n",
    "\n",
    "def dprint(d):\n",
    "    pprint(dict(d))\n",
    "def lmap(*args, **kwargs):\n",
    "    return list(map(*args, **kwargs))\n",
    "def lmapi(*args, **kwargs):\n",
    "    return list(map(int, *args, **kwargs))\n",
    "def enum(*args, **kwargs):\n",
    "    return enumerate(*args, **kwargs)\n"
   ]
  },
  {
   "cell_type": "code",
   "execution_count": 2,
   "metadata": {},
   "outputs": [],
   "source": [
    "input_fname = \"../inputs/day10-demo.in\""
   ]
  },
  {
   "cell_type": "code",
   "execution_count": 105,
   "metadata": {},
   "outputs": [],
   "source": [
    "cmds = []\n",
    "with open(\"../inputs/day10.in\") as ifile:\n",
    "    def ri(): \n",
    "        return int(ifile.readline().strip())\n",
    "    def ris(): \n",
    "        return list(map(int, ifile.readline().strip().split()))\n",
    "    for line in ifile:\n",
    "        if line.startswith(\"addx\"):\n",
    "            cmd, v = line.split()\n",
    "            cmds.append((cmd, int(v)))\n",
    "        else:\n",
    "            cmds.append((line.strip(), 0))\n",
    "# cmds"
   ]
  },
  {
   "cell_type": "code",
   "execution_count": 55,
   "metadata": {},
   "outputs": [
    {
     "name": "stdout",
     "output_type": "stream",
     "text": [
      "end of program at cycle 241\n",
      "14320\n"
     ]
    }
   ],
   "source": [
    "total = 0\n",
    "ts = [20, 60, 100, 140, 180, 220]\n",
    "\n",
    "# program variables\n",
    "cycle = 0\n",
    "pc = 0\n",
    "regx = 1\n",
    "setx = 1\n",
    "fin = 0\n",
    "\n",
    "while True:\n",
    "    cycle += 1\n",
    "    if cycle == fin + 1:  # update register x\n",
    "        # end of prev cycle\n",
    "        regx = setx\n",
    "        # print(cycle-1, \"finish\", regx) \n",
    "\n",
    "        # start of next cycle\n",
    "        # print(cycle, \"start \", regx)\n",
    "        if pc >= len(cmds):\n",
    "            print(\"end of program at cycle\", cycle)\n",
    "            break\n",
    "        cmd, v = cmds[pc]\n",
    "        pc += 1\n",
    "        # print(f\"[{cmd} {v}]\")\n",
    "        if cmd == \"noop\":\n",
    "            fin = cycle\n",
    "            setx = regx\n",
    "        elif cmd == \"addx\":\n",
    "            fin = cycle + 1\n",
    "            setx = regx + v\n",
    "        # print(regx)\n",
    "\n",
    "        # during the current cycle\n",
    "    else:\n",
    "        # print(cycle, \"start\", regx)\n",
    "        pass\n",
    "    if cycle in ts:\n",
    "        # print(\"##record\", regx)\n",
    "        total += cycle * regx\n",
    "print(total)        \n"
   ]
  },
  {
   "cell_type": "code",
   "execution_count": 106,
   "metadata": {},
   "outputs": [
    {
     "name": "stdout",
     "output_type": "stream",
     "text": [
      "###...##..###..###..#..#..##..###....##.\n",
      "#..#.#..#.#..#.#..#.#.#..#..#.#..#....#.\n",
      "#..#.#....#..#.###..##...#..#.#..#....#.\n",
      "###..#....###..#..#.#.#..####.###.....#.\n",
      "#....#..#.#....#..#.#.#..#..#.#....#..#.\n",
      "#.....##..#....###..#..#.#..#.#.....##..\n"
     ]
    }
   ],
   "source": [
    "# sprite\n",
    "sprite = 1\n",
    "\n",
    "# program variables\n",
    "cycle = 0\n",
    "pc = 0\n",
    "regx = 1\n",
    "setx = 1\n",
    "fin = 0\n",
    "\n",
    "crt = -np.ones(240, dtype=int)\n",
    "\n",
    "def dprint(*args, **kwargs):\n",
    "    return\n",
    "    print(*args, **kwargs)\n",
    "\n",
    "while True:\n",
    "    cycle += 1\n",
    "    if cycle == fin + 1:  # update register x\n",
    "        # end of prev cycle\n",
    "        regx = setx\n",
    "        sprite = regx\n",
    "\n",
    "        \n",
    "        dprint(cycle-1, \"finish\", regx) \n",
    "\n",
    "        # start of next cycle\n",
    "        dprint(cycle, \"start \", regx)\n",
    "        if pc >= len(cmds):\n",
    "            dprint(\"end of program at cycle\", cycle)\n",
    "            break\n",
    "\n",
    "        dprint(f\"for sprite (active): {cycle=}, {sprite=}\")\n",
    "        if (cycle-1)%40 in [sprite-1, sprite, sprite+1]:\n",
    "            crt[cycle-1] = 1\n",
    "        else:\n",
    "            crt[cycle-1] = 0\n",
    "        \n",
    "        cmd, v = cmds[pc]\n",
    "        pc += 1\n",
    "        dprint(f\"[{cmd} {v}]\")\n",
    "        if cmd == \"noop\":\n",
    "            fin = cycle\n",
    "            setx = regx\n",
    "        elif cmd == \"addx\":\n",
    "            fin = cycle + 1\n",
    "            setx = regx + v\n",
    "        # print(regx)\n",
    "    else:\n",
    "        dprint(cycle, \"start\", regx)\n",
    "        dprint(f\"for sprite (passive): {cycle=}, {sprite=}\")\n",
    "        if (cycle-1)%40 in [sprite-1, sprite, sprite+1]:\n",
    "            crt[cycle-1] = 1\n",
    "        else:\n",
    "            crt[cycle-1] = 0\n",
    "        pass\n",
    "    dprint(\"\".join([\".#?\"[b] for b in crt[:40]]))\n",
    "    # during the current cycle\n",
    "# print(crt.reshape(6,40))\n",
    "for row in crt.reshape(6,40):\n",
    "    print(\"\".join([\".#?\"[b] for b in row]))\n",
    "# print(total)        \n",
    "##..##..#..##...##.##..##..##..##..##..."
   ]
  }
 ],
 "metadata": {
  "kernelspec": {
   "display_name": "local-venv",
   "language": "python",
   "name": "local-venv"
  },
  "language_info": {
   "codemirror_mode": {
    "name": "ipython",
    "version": 3
   },
   "file_extension": ".py",
   "mimetype": "text/x-python",
   "name": "python",
   "nbconvert_exporter": "python",
   "pygments_lexer": "ipython3",
   "version": "3.10.6"
  },
  "orig_nbformat": 4
 },
 "nbformat": 4,
 "nbformat_minor": 2
}
