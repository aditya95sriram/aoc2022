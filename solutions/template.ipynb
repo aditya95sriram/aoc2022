{
 "cells": [
  {
   "cell_type": "code",
   "execution_count": null,
   "metadata": {},
   "outputs": [],
   "source": [
    "import re, os, sys\n",
    "from functools import reduce\n",
    "from itertools import combinations as comb, permutations as perm, combinations_with_replacement as combr\n",
    "from operator import itemgetter\n",
    "from pprint import pprint\n",
    "from math import *\n",
    "from collections import defaultdict\n",
    "import networkx as nx\n",
    "import numpy as np\n",
    "\n",
    "def dprint(d):\n",
    "    pprint(dict(d))\n",
    "def lmap(*args, **kwargs):\n",
    "    return list(map(*args, **kwargs))\n",
    "def lmapi(*args, **kwargs):\n",
    "    return list(map(int, *args, **kwargs))\n",
    "def enum(*args, **kwargs):\n",
    "    return enumerate(*args, **kwargs)"
   ]
  },
  {
   "cell_type": "code",
   "execution_count": null,
   "metadata": {},
   "outputs": [],
   "source": [
    "input_fname = \"../inputs/day<DAY>-demo.in\""
   ]
  },
  {
   "cell_type": "code",
   "execution_count": null,
   "metadata": {},
   "outputs": [],
   "source": [
    "input_fname = \"../inputs/day<DAY>.in\""
   ]
  },
  {
   "cell_type": "code",
   "execution_count": null,
   "metadata": {},
   "outputs": [],
   "source": [
    "def reread():\n",
    "    lines = []\n",
    "    with open(input_fname) as ifile:\n",
    "        def r(): return ifile.readline().strip()\n",
    "        def rs(): return ifile.readline().strip().split()\n",
    "        def ri(): return int(ifile.readline().strip())\n",
    "        def ris(): return list(map(int, ifile.readline().strip().split()))\n",
    "\n",
    "        # decide between two possible methods of reading input\n",
    "        \n",
    "        # method 1\n",
    "        for line in ifile:\n",
    "            a, b = lmapi(line)\n",
    "            lines.append((a,b))\n",
    "\n",
    "        # method 2\n",
    "        n = ri()\n",
    "        for i in range(n):\n",
    "            a, b = rs()\n",
    "            lines.append(a, int(b))\n",
    "\n",
    "    return lines\n",
    "\n",
    "lines = reread()\n",
    "lines[:10]"
   ]
  },
  {
   "attachments": {},
   "cell_type": "markdown",
   "metadata": {},
   "source": [
    "## Part 1"
   ]
  },
  {
   "cell_type": "code",
   "execution_count": null,
   "metadata": {},
   "outputs": [],
   "source": []
  },
  {
   "cell_type": "markdown",
   "metadata": {},
   "source": [
    "## Part 2"
   ]
  },
  {
   "cell_type": "code",
   "execution_count": null,
   "metadata": {},
   "outputs": [],
   "source": []
  }
 ],
 "metadata": {
  "kernelspec": {
   "display_name": "local-venv",
   "language": "python",
   "name": "local-venv"
  },
  "orig_nbformat": 4
 },
 "nbformat": 4,
 "nbformat_minor": 2
}
