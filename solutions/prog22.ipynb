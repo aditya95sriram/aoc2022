{
 "cells": [
  {
   "cell_type": "code",
   "execution_count": 76,
   "metadata": {},
   "outputs": [],
   "source": [
    "import re, os, sys\n",
    "from functools import reduce\n",
    "from itertools import combinations as comb, permutations as perm, combinations_with_replacement as combr\n",
    "from operator import itemgetter\n",
    "from pprint import pprint\n",
    "from math import *\n",
    "from collections import defaultdict\n",
    "import networkx as nx\n",
    "import numpy as np\n",
    "\n",
    "def dprint(d):\n",
    "    pprint(dict(d))\n",
    "def lmap(*args, **kwargs):\n",
    "    return list(map(*args, **kwargs))\n",
    "def lmapi(*args, **kwargs):\n",
    "    return list(map(int, *args, **kwargs))\n",
    "def enum(*args, **kwargs):\n",
    "    return enumerate(*args, **kwargs)"
   ]
  },
  {
   "cell_type": "code",
   "execution_count": 77,
   "metadata": {},
   "outputs": [],
   "source": [
    "input_fname = \"../inputs/day22-demo.in\""
   ]
  },
  {
   "cell_type": "code",
   "execution_count": 121,
   "metadata": {},
   "outputs": [],
   "source": [
    "input_fname = \"../inputs/day22.in\""
   ]
  },
  {
   "cell_type": "code",
   "execution_count": 122,
   "metadata": {},
   "outputs": [],
   "source": [
    "def reread():\n",
    "    lines = []\n",
    "    with open(input_fname) as ifile:\n",
    "        def r(): return ifile.readline().strip()\n",
    "        def rs(): return ifile.readline().strip().split()\n",
    "        def ri(): return int(ifile.readline().strip())\n",
    "        def ris(): return list(map(int, ifile.readline().strip().split()))\n",
    "\n",
    "        rows = []\n",
    "        maxwidth = 0\n",
    "        # read map\n",
    "        for line in ifile:\n",
    "            if not line.strip(): break\n",
    "            row = [\" .#\".index(c) for c in line.rstrip()]\n",
    "            rows.append(row)\n",
    "            maxwidth = max(maxwidth, len(row))\n",
    "\n",
    "        ar = np.zeros((len(rows), maxwidth), dtype=int)\n",
    "        for i, row in enum(rows):\n",
    "            ar[i, :len(row)]  = row\n",
    "        # directions\n",
    "        path = r()\n",
    "        path = path.replace(\"R\", \" R \").replace(\"L\", \" L \").split()\n",
    "    \n",
    "    return ar, path\n",
    "\n",
    "ar, path = reread()\n",
    "# ar[:10], path[:10]"
   ]
  },
  {
   "cell_type": "code",
   "execution_count": 81,
   "metadata": {},
   "outputs": [],
   "source": [
    "# debug cube in layout of large input\n",
    "ar = np.repeat(np.repeat(SIDENUMS, DIM, axis=1), DIM, axis=0)"
   ]
  },
  {
   "attachments": {},
   "cell_type": "markdown",
   "metadata": {},
   "source": [
    "## Part 1"
   ]
  },
  {
   "cell_type": "code",
   "execution_count": 123,
   "metadata": {},
   "outputs": [],
   "source": [
    "rowlos = []\n",
    "rowhis = []\n",
    "for row in ar:\n",
    "    idx = np.nonzero(row > 0)\n",
    "    rowlos.append(np.min(idx))\n",
    "    rowhis.append(np.max(idx))\n",
    "# rowlos, rowhis"
   ]
  },
  {
   "cell_type": "code",
   "execution_count": 124,
   "metadata": {},
   "outputs": [],
   "source": [
    "collos = []\n",
    "colhis = []\n",
    "for col in ar.T:\n",
    "    idx = np.nonzero(col > 0)\n",
    "    collos.append(np.min(idx))\n",
    "    colhis.append(np.max(idx))\n",
    "# collos, colhis"
   ]
  },
  {
   "cell_type": "code",
   "execution_count": 125,
   "metadata": {},
   "outputs": [],
   "source": [
    "def i2c(cn):\n",
    "    return int(cn.real), int(cn.imag)\n",
    "def c2i(x, y):\n",
    "    return x+1j*y"
   ]
  },
  {
   "cell_type": "code",
   "execution_count": 126,
   "metadata": {},
   "outputs": [],
   "source": [
    "def travel(strip, relpos, dist):\n",
    "    # print(\"travel got\", strip, relpos, dist)\n",
    "    if np.max(strip) == 1:  # no wall\n",
    "        newpos = relpos + dist\n",
    "        # print(f\"no wall\")#, {pos}->{newpos}\")\n",
    "    else:  # some wall\n",
    "        rem = np.hstack((strip, strip))[relpos:relpos+len(strip)]\n",
    "        # print(np.max(strip), rem, (rem == 2).nonzero())\n",
    "        walldist = (rem == 2).nonzero()[0][0]\n",
    "        if dist >= walldist:\n",
    "            # hit wall\n",
    "            newpos = relpos + walldist - 1\n",
    "            # print(f\"hit wall\")#, {pos}->{newpos}\")\n",
    "        else:\n",
    "            # no hit\n",
    "            newpos = relpos + dist\n",
    "            # print(f\"free move\")#, {pos}->{newpos}\")\n",
    "    return newpos % len(strip)"
   ]
  },
  {
   "cell_type": "code",
   "execution_count": 127,
   "metadata": {},
   "outputs": [
    {
     "name": "stdout",
     "output_type": "stream",
     "text": [
      "final: (96+66j)\n",
      "password: 67390\n"
     ]
    }
   ],
   "source": [
    "pos = c2i(rowlos[0], collos[rowlos[0]])\n",
    "face = 1+0j\n",
    "for move in path:\n",
    "    if move == \"R\":\n",
    "        face *= 1j\n",
    "        # print(\"turning right\", face)\n",
    "    elif move == \"L\":\n",
    "        face *= -1j\n",
    "        # print(\"turning left\", face)\n",
    "    else:\n",
    "        dist = int(move)\n",
    "        x, y = i2c(pos)\n",
    "        if face == 1:  # right\n",
    "            row = ar[y][ar[y]>0]\n",
    "            lo = rowlos[y]\n",
    "            xrel = x - lo\n",
    "            newx = lo + travel(row, xrel, dist)\n",
    "            newpos = c2i(newx, y)\n",
    "        elif face == -1:  # left\n",
    "            row = ar[y][ar[y]>0][::-1]\n",
    "            hi = rowhis[y]\n",
    "            xrel = hi - x\n",
    "            newx = hi - travel(row, xrel, dist)\n",
    "            newpos = c2i(newx, y)\n",
    "        elif face == 1j:  # down\n",
    "            col = ar[:,x][ar[:,x]>0]\n",
    "            lo = collos[x]\n",
    "            yrel = y - lo\n",
    "            newy = lo + travel(col, yrel, dist)\n",
    "            newpos = c2i(x, newy)\n",
    "        elif face == -1j:  # up\n",
    "            col = ar[:,x][ar[:,x]>0][::-1]\n",
    "            hi = colhis[x]\n",
    "            yrel = hi - y\n",
    "            newy = hi - travel(col, yrel, dist)\n",
    "            newpos = c2i(x, newy)\n",
    "        else:\n",
    "            raise RuntimeError(f\"shouldn't reach here, face: {face}\")\n",
    "        # print(f\"updating pos, {i2c(pos)}->{i2c(newpos)}\")\n",
    "        pos = newpos\n",
    "    # break\n",
    "print(\"final:\", pos)\n",
    "password = 0\n",
    "password += (pos.imag + 1)*1000\n",
    "password += (pos.real + 1)*4\n",
    "password += [1, -1j, -1, 1j].index(face)\n",
    "print(\"password:\", int(password))"
   ]
  },
  {
   "cell_type": "markdown",
   "metadata": {},
   "source": [
    "## Part 2"
   ]
  },
  {
   "attachments": {},
   "cell_type": "markdown",
   "metadata": {},
   "source": [
    "# Try next\n",
    "\n",
    "> probably need to encode 3 bits of information and complex number isn't enough\n",
    "> - next side\n",
    "> - flip or not (`DIM - 1 - yin`)\n",
    "> - next face on next side (includes `reverse` or not, only `-1` and `-1j` are reverse)"
   ]
  },
  {
   "cell_type": "code",
   "execution_count": 22,
   "metadata": {},
   "outputs": [],
   "source": [
    "# small params\n",
    "DIM = 4\n",
    "SIDENUMS = np.array([\n",
    "    [0, 0, 1, 0],\n",
    "    [2, 3, 4, 0],\n",
    "    [0, 0, 5, 6]\n",
    "])\n",
    "\n",
    "NBRS = {\n",
    "    -1: {  # left\n",
    "        1:(3,1j), 2:(-6,-1j), 3:(2,-1),\n",
    "        4:(3,-1), 5:(-3,-1j), 6:(5,-1)\n",
    "    },\n",
    "    1: {  # right\n",
    "        1:(-6,-1), 2:(3,1), 3:(4,1),\n",
    "        4:(-6,1j), 5:(6,1), 6:(-1,-1)\n",
    "    },\n",
    "    -1j: {  # up\n",
    "        1:(-2,1j), 2:(-1,1j), 3:(1,1),\n",
    "        4:(1,-1j), 5:(4,-1j), 6:(-4,-1)\n",
    "    },\n",
    "    1j: {  # down\n",
    "        1:(4,1j), 2:(-5,-1j), 3:(-5,1),\n",
    "        4:(5,1j), 5:(-2,-1j), 6:(-2,1)\n",
    "    },\n",
    "}"
   ]
  },
  {
   "cell_type": "code",
   "execution_count": 130,
   "metadata": {},
   "outputs": [],
   "source": [
    "# large params\n",
    "DIM = 50\n",
    "SIDENUMS = np.array([\n",
    "    [0, 2, 1],\n",
    "    [0, 3, 0],\n",
    "    [5, 4, 0],\n",
    "    [6, 0, 0]\n",
    "])\n",
    "\n",
    "NBRS = {\n",
    "    -1: {  # left\n",
    "        1:(2,-1), 2:(-5,1), 3:(5,1j),\n",
    "        4:(5,-1), 5:(-2,1), 6:(2,1j)\n",
    "    },\n",
    "    1: {  # right\n",
    "        1:(-4,-1), 2:(1,1), 3:(1,-1j),\n",
    "        4:(-1,-1), 5:(4,1), 6:(4,-1j)\n",
    "    },\n",
    "    -1j: {  # up\n",
    "        1:(6,-1j), 2:(6,1), 3:(2,-1j),\n",
    "        4:(3,-1j), 5:(3,1), 6:(5,-1j)\n",
    "    },\n",
    "    1j: {  # down\n",
    "        1:(3,-1), 2:(3,1j), 3:(4,1j),\n",
    "        4:(6,-1), 5:(6,1j), 6:(1,1j)\n",
    "    },\n",
    "}"
   ]
  },
  {
   "cell_type": "code",
   "execution_count": 131,
   "metadata": {},
   "outputs": [],
   "source": [
    "def find_side(pos):\n",
    "    # print(i2c(pos), end=\"->\")\n",
    "    pos /= DIM\n",
    "    # print(i2c(pos), end=\"\\t\")\n",
    "    x, y = i2c(pos)\n",
    "    # print(\"x\", x, \"y\", y, \"\\t\", sides[y,x])\n",
    "    return SIDENUMS[y,x]"
   ]
  },
  {
   "cell_type": "code",
   "execution_count": null,
   "metadata": {},
   "outputs": [],
   "source": [
    "# debug cube\n",
    "nonzeros = list(zip(*ar.nonzero()))\n",
    "ctr = 1\n",
    "for y, x in nonzeros:\n",
    "    ar[y,x] = ctr\n",
    "    ctr += 1\n",
    "ar"
   ]
  },
  {
   "attachments": {},
   "cell_type": "markdown",
   "metadata": {},
   "source": [
    "```\n",
    "                            +-------------+\n",
    "                            |  1  2  3  4 |           \n",
    "                            |  5  6  7  8 |           \n",
    "                            |  9 10 11 12 |           \n",
    "                            | 13 14 15 16 |           \n",
    "+-------------+-------------+-------------+\n",
    "| 17 18 19 20 | 21 22 23 24 | 25 26 27 28 |           \n",
    "| 29 30 31 32 | 33 34 35 36 | 37 38 39 40 |           \n",
    "| 41 42 43 44 | 45 46 47 48 | 49 50 51 52 |           \n",
    "| 53 54 55 56 | 57 58 59 60 | 61 62 63 64 |\n",
    "+-------------+-------------+-------------+-------------+         \n",
    "                            | 65 66 67 68 | 69 70 71 72 |\n",
    "                            | 73 74 75 76 | 77 78 79 80 |\n",
    "                            | 81 82 83 84 | 85 86 87 88 |\n",
    "                            | 89 90 91 92 | 93 94 95 96 |\n",
    "                            +-------------+-------------+\n",
    "```"
   ]
  },
  {
   "cell_type": "code",
   "execution_count": 132,
   "metadata": {},
   "outputs": [],
   "source": [
    "SIDES = dict()\n",
    "POSES = dict()\n",
    "for sy, srow in enum(SIDENUMS):\n",
    "    for sx, sidenum in enum(srow):\n",
    "        if sidenum:\n",
    "            SIDES[sidenum] = ar[sy*DIM:(sy+1)*DIM, sx*DIM:(sx+1)*DIM]\n",
    "            ix, iy = np.meshgrid(\n",
    "                np.arange(sx*DIM, (sx+1)*DIM), np.arange(sy*DIM, (sy+1)*DIM)\n",
    "            )\n",
    "            POSES[sidenum] = ix+iy*1j\n",
    "            # print(\"extracted side\", sidenum)\n",
    "            # print(ar[sy*DIM:(sy+1)*DIM, sx*DIM:(sx+1)*DIM])"
   ]
  },
  {
   "cell_type": "code",
   "execution_count": 133,
   "metadata": {},
   "outputs": [],
   "source": [
    "def collect_strips(ar, pos, face):\n",
    "    def isneg(cn):\n",
    "        return cn.real < 0 or cn.imag < 0\n",
    "    x, y = i2c(pos)\n",
    "    xin, yin = x%DIM, y%DIM\n",
    "    # offset = yin if face.real == 0 else xin\n",
    "    side = find_side(pos)\n",
    "    assert side in range(1, 7), f\"invalid pos {pos}, not on any side\"\n",
    "    \n",
    "    strips = []\n",
    "    poslist = []\n",
    "    facelist = []\n",
    "    for i in range(4):\n",
    "        facelist.extend([face]*DIM)\n",
    "        if face.imag == 0:  # horizontal strip\n",
    "            strip = SIDES[side][yin]\n",
    "            poses = POSES[side][yin]\n",
    "        else:  # vertical strip\n",
    "            strip = SIDES[side][:,xin]\n",
    "            poses = POSES[side][:,xin]\n",
    "        if isneg(face): \n",
    "            strip = strip[::-1]\n",
    "            poses = poses[::-1]\n",
    "        # print(\"strip\", i, strip)\n",
    "        strips.append(strip)\n",
    "        poslist.append(poses)\n",
    "        # print()\n",
    "        \n",
    "        # prepare for next strip\n",
    "        nxt, nxtface = NBRS[face][side]\n",
    "        nxtside = int(abs(nxt))\n",
    "        side = nxtside\n",
    "        turn = ((face*nxtface).imag != 0)\n",
    "        # print(\"face\", face, \"\\tnxtface\", nxtface, \"\\tturn\", turn)\n",
    "        face = nxtface\n",
    "        if nxt < 0:\n",
    "            yin = (DIM - 1) - yin\n",
    "            xin = (DIM - 1) - xin\n",
    "        if turn:\n",
    "            yin, xin = xin, yin\n",
    "        # print(\"next side\", nxtside, \"\\tface\", face,\n",
    "            #  \"\\txin\", xin, \"\\tyin\", yin)\n",
    "        \n",
    "    stacposes = np.hstack(poslist)\n",
    "    offset = (stacposes == pos).nonzero()[0][0]\n",
    "    retstrips = np.roll(np.hstack(strips), -offset)\n",
    "    retposes = np.roll(stacposes, -offset)\n",
    "    retfaces = np.roll(facelist, -offset)\n",
    "    return retstrips, retposes, retfaces"
   ]
  },
  {
   "cell_type": "code",
   "execution_count": 107,
   "metadata": {},
   "outputs": [
    {
     "data": {
      "text/plain": [
       "(array([ 4, 93, 94, 95, 96, 80, 72, 64, 56, 48, 44, 40, 36, 28, 20, 12]),\n",
       " array([7. +0.j, 0.+15.j, 1.+15.j, 2.+15.j, 3.+15.j, 7.+11.j, 7.+10.j,\n",
       "        7. +9.j, 7. +8.j, 7. +7.j, 7. +6.j, 7. +5.j, 7. +4.j, 7. +3.j,\n",
       "        7. +2.j, 7. +1.j]),\n",
       " array([-0.-1.j,  1.+0.j,  1.+0.j,  1.+0.j,  1.+0.j, -0.-1.j, -0.-1.j,\n",
       "        -0.-1.j, -0.-1.j, -0.-1.j, -0.-1.j, -0.-1.j, -0.-1.j, -0.-1.j,\n",
       "        -0.-1.j, -0.-1.j]))"
      ]
     },
     "execution_count": 107,
     "metadata": {},
     "output_type": "execute_result"
    }
   ],
   "source": [
    "# collect_strips(ar, 8+0j, 1)\n",
    "#1,2,3,4,96,95,94,93,92,91,90,89,57,45,33,21\n",
    "# collect_strips(ar, 15+11j, -1)\n",
    "#96,95,94,93,92,91,90,89,57,45,33,21,1,2,3,4\n",
    "# collect_strips(ar, 7+5j, 1j)\n",
    "#24,36,48,60,65,66,67,68,69,70,71,72,16,15,14,13\n",
    "# collect_strips(ar, 10, 1j)\n",
    "collect_strips(ar, 7, -1j)"
   ]
  },
  {
   "cell_type": "code",
   "execution_count": 136,
   "metadata": {},
   "outputs": [],
   "source": [
    "def cube_travel(strip, dist):\n",
    "    # print(\"travel got\", strip, dist)\n",
    "    if np.max(strip) == 1:  # no wall\n",
    "        newpos = dist\n",
    "        # print(f\"no wall\")#, {pos}->{newpos}\")\n",
    "    else:  # some wall\n",
    "        rem = np.hstack((strip, strip))[:len(strip)]\n",
    "        # print(np.max(strip), rem, (rem == 2).nonzero())\n",
    "        walldist = (rem == 2).nonzero()[0][0]\n",
    "        if dist >= walldist:\n",
    "            # hit wall\n",
    "            newpos = walldist - 1\n",
    "            # print(f\"hit wall\")#, {pos}->{newpos}\")\n",
    "        else:\n",
    "            # no hit\n",
    "            newpos = dist\n",
    "            # print(f\"free move\")#, {pos}->{newpos}\")\n",
    "    return newpos % len(strip)"
   ]
  },
  {
   "cell_type": "code",
   "execution_count": 137,
   "metadata": {},
   "outputs": [
    {
     "name": "stdout",
     "output_type": "stream",
     "text": [
      "final: (71+94j)\n",
      "password: 95291\n"
     ]
    }
   ],
   "source": [
    "pos = c2i(rowlos[0], collos[rowlos[0]])\n",
    "face = 1+0j\n",
    "for move in path:\n",
    "    if move == \"R\":\n",
    "        face *= 1j\n",
    "        # print(\"turning right\", face)\n",
    "    elif move == \"L\":\n",
    "        face *= -1j\n",
    "        # print(\"turning left\", face)\n",
    "    else:\n",
    "        dist = int(move)\n",
    "        x, y = i2c(pos)\n",
    "        # print(\"passing\", pos, face)\n",
    "        strip, poslist, facelist = collect_strips(ar, pos, face)\n",
    "        # print(\"strip\", strip)\n",
    "        # print(poslist)\n",
    "        newidx = cube_travel(strip, dist)\n",
    "        newpos = poslist[newidx]\n",
    "        newface = facelist[newidx]\n",
    "        # print(f\"updating pos, {i2c(pos)}->{i2c(newpos)}\")\n",
    "        # print(f\"updating face, {face}->{newface}\")\n",
    "        # print()\n",
    "        pos = newpos\n",
    "        face = newface\n",
    "    # break\n",
    "print(\"final:\", pos)\n",
    "password = 0\n",
    "password += (pos.imag + 1)*1000\n",
    "password += (pos.real + 1)*4\n",
    "password += [1, 1j, -1, -1j].index(face)\n",
    "print(\"password:\", int(password))"
   ]
  },
  {
   "attachments": {},
   "cell_type": "markdown",
   "metadata": {},
   "source": [
    "- `110080` - too high\n",
    "- `110083` - too high\n",
    "- `95291` - just right"
   ]
  }
 ],
 "metadata": {
  "kernelspec": {
   "display_name": "local-venv",
   "language": "python",
   "name": "local-venv"
  },
  "language_info": {
   "codemirror_mode": {
    "name": "ipython",
    "version": 3
   },
   "file_extension": ".py",
   "mimetype": "text/x-python",
   "name": "python",
   "nbconvert_exporter": "python",
   "pygments_lexer": "ipython3",
   "version": "3.10.6"
  },
  "orig_nbformat": 4
 },
 "nbformat": 4,
 "nbformat_minor": 2
}
