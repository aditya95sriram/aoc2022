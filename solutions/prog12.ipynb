{
 "cells": [
  {
   "cell_type": "code",
   "execution_count": 1,
   "metadata": {},
   "outputs": [],
   "source": [
    "import re, os, sys\n",
    "from functools import reduce\n",
    "from itertools import combinations as comb, permutations as perm, combinations_with_replacement as combr\n",
    "from operator import itemgetter\n",
    "from pprint import pprint\n",
    "from math import *\n",
    "from collections import defaultdict\n",
    "import networkx as nx\n",
    "import numpy as np\n",
    "\n",
    "def dprint(d):\n",
    "    pprint(dict(d))\n",
    "def lmap(*args, **kwargs):\n",
    "    return list(map(*args, **kwargs))\n",
    "def lmapi(*args, **kwargs):\n",
    "    return list(map(int, *args, **kwargs))\n",
    "def enum(*args, **kwargs):\n",
    "    return enumerate(*args, **kwargs)\n"
   ]
  },
  {
   "cell_type": "code",
   "execution_count": 64,
   "metadata": {},
   "outputs": [],
   "source": [
    "input_fname = \"../inputs/day12.in\""
   ]
  },
  {
   "cell_type": "code",
   "execution_count": 65,
   "metadata": {},
   "outputs": [
    {
     "data": {
      "text/plain": [
       "(array([[0, 1, 2, ..., 0, 0, 0],\n",
       "        [0, 1, 2, ..., 0, 0, 0],\n",
       "        [0, 1, 2, ..., 0, 0, 0],\n",
       "        ...,\n",
       "        [0, 1, 0, ..., 0, 0, 0],\n",
       "        [0, 1, 2, ..., 0, 0, 0],\n",
       "        [0, 1, 2, ..., 0, 0, 0]]),\n",
       " (0, 20),\n",
       " (120, 20))"
      ]
     },
     "execution_count": 65,
     "metadata": {},
     "output_type": "execute_result"
    }
   ],
   "source": [
    "def reread():\n",
    "    lines = []\n",
    "    start = end = None\n",
    "    with open(input_fname) as ifile:\n",
    "        def r(): return ifile.readline().strip()\n",
    "        def rs(): return ifile.readline().strip().split()\n",
    "        def ri(): return int(ifile.readline().strip())\n",
    "        def ris(): return list(map(int, ifile.readline().strip().split()))\n",
    "        row = 0\n",
    "        for line in ifile:\n",
    "            line = line.strip()\n",
    "            if 'S' in line:\n",
    "                start = line.find('S'), row\n",
    "                line = line.replace('S', 'a')\n",
    "            if 'E' in line:\n",
    "                end = line.find('E'), row\n",
    "                line = line.replace('E', 'z')\n",
    "            lines.append(list(map(lambda c: ord(c)-ord('a'), line)))\n",
    "            row += 1\n",
    "    return np.array(lines, dtype=int), start, end\n",
    "lines, start, end = reread()\n",
    "lines, start, end"
   ]
  },
  {
   "cell_type": "code",
   "execution_count": 66,
   "metadata": {},
   "outputs": [
    {
     "data": {
      "text/plain": [
       "(143, 41)"
      ]
     },
     "execution_count": 66,
     "metadata": {},
     "output_type": "execute_result"
    }
   ],
   "source": [
    "h, w = lines.shape\n",
    "w, h"
   ]
  },
  {
   "cell_type": "code",
   "execution_count": 67,
   "metadata": {},
   "outputs": [],
   "source": [
    "g = nx.DiGraph()\n",
    "for y in range(h):\n",
    "    for x in range(w):\n",
    "        # print(x, y)\n",
    "        cur = lines[y,x]\n",
    "        g.add_node((x,y))\n",
    "        if x > 0 and lines[y,x-1] <= cur + 1:\n",
    "            g.add_edge((x,y), (x-1,y))\n",
    "        if x < w-1 and lines[y,x+1] <= cur + 1:\n",
    "            g.add_edge((x,y), (x+1,y))\n",
    "        if y > 0 and lines[y-1,x] <= cur + 1:\n",
    "            g.add_edge((x,y), (x,y-1))\n",
    "        if y < h-1 and lines[y+1,x] <= cur + 1:\n",
    "            g.add_edge((x,y), (x,y+1))\n",
    "# g.edges()[:10]"
   ]
  },
  {
   "attachments": {},
   "cell_type": "markdown",
   "metadata": {},
   "source": [
    "## Part 1"
   ]
  },
  {
   "cell_type": "code",
   "execution_count": 43,
   "metadata": {},
   "outputs": [
    {
     "data": {
      "text/plain": [
       "462"
      ]
     },
     "execution_count": 43,
     "metadata": {},
     "output_type": "execute_result"
    }
   ],
   "source": [
    "nx.shortest_path_length(g, start, end)"
   ]
  },
  {
   "cell_type": "markdown",
   "metadata": {},
   "source": [
    "## Part 2"
   ]
  },
  {
   "cell_type": "code",
   "execution_count": 68,
   "metadata": {},
   "outputs": [
    {
     "data": {
      "text/plain": [
       "451"
      ]
     },
     "execution_count": 68,
     "metadata": {},
     "output_type": "execute_result"
    }
   ],
   "source": [
    "l = nx.single_target_shortest_path_length(g, end, cutoff=462)\n",
    "min(b for a,b in l if lines[a[1], a[0]]==0)"
   ]
  }
 ],
 "metadata": {
  "kernelspec": {
   "display_name": "local-venv",
   "language": "python",
   "name": "local-venv"
  },
  "language_info": {
   "codemirror_mode": {
    "name": "ipython",
    "version": 3
   },
   "file_extension": ".py",
   "mimetype": "text/x-python",
   "name": "python",
   "nbconvert_exporter": "python",
   "pygments_lexer": "ipython3",
   "version": "3.10.6"
  },
  "orig_nbformat": 4
 },
 "nbformat": 4,
 "nbformat_minor": 2
}
