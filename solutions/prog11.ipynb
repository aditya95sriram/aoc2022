{
 "cells": [
  {
   "cell_type": "code",
   "execution_count": 2,
   "metadata": {},
   "outputs": [],
   "source": [
    "import re, os, sys\n",
    "from functools import reduce\n",
    "from itertools import combinations as comb, permutations as perm, combinations_with_replacement as combr\n",
    "from operator import itemgetter\n",
    "from pprint import pprint\n",
    "from math import *\n",
    "from collections import defaultdict\n",
    "import networkx as nx\n",
    "import numpy as np\n",
    "\n",
    "def dprint(d):\n",
    "    pprint(dict(d))\n",
    "def lmap(*args, **kwargs):\n",
    "    return list(map(*args, **kwargs))\n",
    "def lmapi(*args, **kwargs):\n",
    "    return list(map(int, *args, **kwargs))\n",
    "def enum(*args, **kwargs):\n",
    "    return enumerate(*args, **kwargs)\n"
   ]
  },
  {
   "cell_type": "code",
   "execution_count": 49,
   "metadata": {},
   "outputs": [],
   "source": [
    "def reread():\n",
    "    monkeys = []\n",
    "    with open(\"../inputs/day11.in\") as ifile:\n",
    "        def ri(): \n",
    "            return int(ifile.readline().strip())\n",
    "        def ris(): \n",
    "            return list(map(int, ifile.readline().strip().split()))\n",
    "        while True:\n",
    "            line = ifile.readline()\n",
    "            if not line: break\n",
    "            _, n = line.strip(\":\\n\").split()\n",
    "            n = int(n)\n",
    "            _, start = ifile.readline().strip().split(\": \")\n",
    "            start = lmapi(start.split(\",\"))\n",
    "            _, op = ifile.readline().strip().split(\": new = \")\n",
    "            _, test = ifile.readline().strip().split(\": divisible by \")\n",
    "            test = int(test)\n",
    "            _, iftrue = ifile.readline().strip().split(\": throw to monkey\")\n",
    "            iftrue = int(iftrue)\n",
    "            _, iffalse = ifile.readline().strip().split(\": throw to monkey\")\n",
    "            iffalse = int(iffalse)\n",
    "            assert len(monkeys) == n, \"monkey ordering mismatch\"\n",
    "            monkeys.append((start, op, test, iftrue, iffalse))\n",
    "            _ = ifile.readline()\n",
    "            # print(n, _)\n",
    "    # pprint(monkeys)\n",
    "    return monkeys"
   ]
  },
  {
   "cell_type": "code",
   "execution_count": 46,
   "metadata": {},
   "outputs": [
    {
     "name": "stdout",
     "output_type": "stream",
     "text": [
      "[197, 11, 190, 228, 33, 222, 231, 234]\n",
      "54054\n"
     ]
    }
   ],
   "source": [
    "# [part 1]\n",
    "monkeys = reread()\n",
    "counts = [0] * len(monkeys)\n",
    "for round in range(20):\n",
    "    for i in range(len(monkeys)):\n",
    "        start, op, test, iftrue, iffalse = monkeys[i]\n",
    "        while start:\n",
    "            item = start.pop(0)\n",
    "            old = item\n",
    "            new = eval(op)\n",
    "            new = new // 3\n",
    "            if new % test == 0:\n",
    "                monkeys[iftrue][0].append(new)\n",
    "            else:\n",
    "                monkeys[iffalse][0].append(new)\n",
    "            counts[i] += 1\n",
    "            # break\n",
    "        # break\n",
    "    # break\n",
    "    # print(\"after round\", round+1)\n",
    "    # pprint(monkeys)\n",
    "print(counts)\n",
    "counts.sort(reverse=True)\n",
    "print(counts[0]*counts[1])"
   ]
  },
  {
   "cell_type": "code",
   "execution_count": 96,
   "metadata": {},
   "outputs": [
    {
     "name": "stdout",
     "output_type": "stream",
     "text": [
      "[52166, 47830, 1938, 52013]\n",
      "2713310158\n"
     ]
    }
   ],
   "source": [
    "# [part 2]\n",
    "monkeys = reread()\n",
    "counts = [0] * len(monkeys)\n",
    "def partition(ar, div):\n",
    "    cond = (ar % div == 0)\n",
    "    return ar[cond], ar[~cond]\n",
    "M = 1\n",
    "for (_, _, test, _, _) in monkeys:\n",
    "    M *= test\n",
    "for round in range(10000):\n",
    "    for i in range(len(monkeys)):\n",
    "        start, op, test, iftrue, iffalse = monkeys[i]\n",
    "        if True:  # vectorized\n",
    "            if not start: continue\n",
    "            old = np.array(start)\n",
    "            new = eval(op)\n",
    "            new = new % M\n",
    "            t, f = partition(new, test)\n",
    "            monkeys[iftrue][0].extend(t)\n",
    "            monkeys[iffalse][0].extend(f)\n",
    "            counts[i] += len(start)\n",
    "            monkeys[i][0].clear()\n",
    "        else: # basic\n",
    "            counts[i] += len(start)\n",
    "            while start:\n",
    "                item = start.pop(0)\n",
    "                old = item\n",
    "                new = eval(op)\n",
    "                # new = new // 3\n",
    "                if new % test == 0:\n",
    "                    monkeys[iftrue][0].append(new)\n",
    "                else:\n",
    "                    monkeys[iffalse][0].append(new)\n",
    "\n",
    "        # break\n",
    "    # break\n",
    "    # print(\"after round\", round+1)\n",
    "    # pprint(monkeys)\n",
    "    # pprint(monkeys)\n",
    "#     if round+1 in [1, 20, 50, 100, 1000, 2000, 3000, 4000, 5000, 6000, 7000, 8000, 9000, 10000]:\n",
    "#         print(\"after round\", round+1)\n",
    "#         print(counts)\n",
    "#     # pprint(monkeys)\n",
    "print(counts)\n",
    "counts.sort(reverse=True)\n",
    "print(counts[0]*counts[1])"
   ]
  },
  {
   "cell_type": "code",
   "execution_count": null,
   "metadata": {},
   "outputs": [],
   "source": []
  }
 ],
 "metadata": {
  "kernelspec": {
   "display_name": "local-venv",
   "language": "python",
   "name": "local-venv"
  },
  "language_info": {
   "codemirror_mode": {
    "name": "ipython",
    "version": 3
   },
   "file_extension": ".py",
   "mimetype": "text/x-python",
   "name": "python",
   "nbconvert_exporter": "python",
   "pygments_lexer": "ipython3",
   "version": "3.10.6"
  },
  "orig_nbformat": 4
 },
 "nbformat": 4,
 "nbformat_minor": 2
}
