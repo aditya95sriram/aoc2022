{
 "cells": [
  {
   "cell_type": "code",
   "execution_count": 2,
   "metadata": {},
   "outputs": [],
   "source": [
    "import re, os, sys\n",
    "from functools import reduce\n",
    "from itertools import combinations as comb, permutations as perm, combinations_with_replacement as combr\n",
    "from operator import itemgetter\n",
    "from pprint import pprint\n",
    "from math import *\n",
    "from collections import defaultdict\n",
    "import networkx as nx\n",
    "import numpy as np\n",
    "\n",
    "def dprint(d):\n",
    "    pprint(dict(d))\n",
    "def lmap(*args, **kwargs):\n",
    "    return list(map(*args, **kwargs))\n",
    "def lmapi(*args, **kwargs):\n",
    "    return list(map(int, *args, **kwargs))\n",
    "def enum(*args, **kwargs):\n",
    "    return enumerate(*args, **kwargs)"
   ]
  },
  {
   "cell_type": "code",
   "execution_count": 85,
   "metadata": {},
   "outputs": [],
   "source": [
    "input_fname = \"../inputs/day22-demo.in\""
   ]
  },
  {
   "cell_type": "code",
   "execution_count": 3,
   "metadata": {},
   "outputs": [],
   "source": [
    "input_fname = \"../inputs/day22.in\""
   ]
  },
  {
   "cell_type": "code",
   "execution_count": 86,
   "metadata": {},
   "outputs": [],
   "source": [
    "def reread():\n",
    "    lines = []\n",
    "    with open(input_fname) as ifile:\n",
    "        def r(): return ifile.readline().strip()\n",
    "        def rs(): return ifile.readline().strip().split()\n",
    "        def ri(): return int(ifile.readline().strip())\n",
    "        def ris(): return list(map(int, ifile.readline().strip().split()))\n",
    "\n",
    "        rows = []\n",
    "        maxwidth = 0\n",
    "        # read map\n",
    "        for line in ifile:\n",
    "            if not line.strip(): break\n",
    "            row = [\" .#\".index(c) for c in line.rstrip()]\n",
    "            rows.append(row)\n",
    "            maxwidth = max(maxwidth, len(row))\n",
    "\n",
    "        ar = np.zeros((len(rows), maxwidth), dtype=int)\n",
    "        for i, row in enum(rows):\n",
    "            ar[i, :len(row)]  = row\n",
    "        # directions\n",
    "        path = r()\n",
    "        path = path.replace(\"R\", \" R \").replace(\"L\", \" L \").split()\n",
    "    \n",
    "    return ar, path\n",
    "\n",
    "ar, path = reread()\n",
    "# ar[:10], path[:10]"
   ]
  },
  {
   "attachments": {},
   "cell_type": "markdown",
   "metadata": {},
   "source": [
    "## Part 1"
   ]
  },
  {
   "cell_type": "code",
   "execution_count": 87,
   "metadata": {},
   "outputs": [],
   "source": [
    "rowlos = []\n",
    "rowhis = []\n",
    "for row in ar:\n",
    "    idx = np.nonzero(row > 0)\n",
    "    rowlos.append(np.min(idx))\n",
    "    rowhis.append(np.max(idx))\n",
    "# rowlos, rowhis"
   ]
  },
  {
   "cell_type": "code",
   "execution_count": 88,
   "metadata": {},
   "outputs": [],
   "source": [
    "collos = []\n",
    "colhis = []\n",
    "for col in ar.T:\n",
    "    idx = np.nonzero(col > 0)\n",
    "    collos.append(np.min(idx))\n",
    "    colhis.append(np.max(idx))\n",
    "# collos, colhis"
   ]
  },
  {
   "cell_type": "code",
   "execution_count": 89,
   "metadata": {},
   "outputs": [],
   "source": [
    "def i2c(cn):\n",
    "    return int(cn.real), int(cn.imag)\n",
    "def c2i(x, y):\n",
    "    return x+1j*y"
   ]
  },
  {
   "cell_type": "code",
   "execution_count": 90,
   "metadata": {},
   "outputs": [],
   "source": [
    "def travel(strip, relpos, dist):\n",
    "    # print(\"travel got\", strip, relpos, dist)\n",
    "    if np.max(strip) == 1:  # no wall\n",
    "        newpos = relpos + dist\n",
    "        # print(f\"no wall\")#, {pos}->{newpos}\")\n",
    "    else:  # some wall\n",
    "        rem = np.hstack((strip, strip))[relpos:relpos+len(strip)]\n",
    "        # print(np.max(strip), rem, (rem == 2).nonzero())\n",
    "        walldist = (rem == 2).nonzero()[0][0]\n",
    "        if dist >= walldist:\n",
    "            # hit wall\n",
    "            newpos = relpos + walldist - 1\n",
    "            # print(f\"hit wall\")#, {pos}->{newpos}\")\n",
    "        else:\n",
    "            # no hit\n",
    "            newpos = relpos + dist\n",
    "            # print(f\"free move\")#, {pos}->{newpos}\")\n",
    "    return newpos % len(strip)"
   ]
  },
  {
   "cell_type": "code",
   "execution_count": 91,
   "metadata": {},
   "outputs": [
    {
     "name": "stdout",
     "output_type": "stream",
     "text": [
      "final: (7+5j)\n",
      "password: 6032\n"
     ]
    }
   ],
   "source": [
    "pos = c2i(rowlos[0], collos[rowlos[0]])\n",
    "face = 1+0j\n",
    "for move in path:\n",
    "    if move == \"R\":\n",
    "        face *= 1j\n",
    "        # print(\"turning right\", face)\n",
    "    elif move == \"L\":\n",
    "        face *= -1j\n",
    "        # print(\"turning left\", face)\n",
    "    else:\n",
    "        dist = int(move)\n",
    "        x, y = i2c(pos)\n",
    "        if face == 1:  # right\n",
    "            row = ar[y][ar[y]>0]\n",
    "            lo = rowlos[y]\n",
    "            xrel = x - lo\n",
    "            newx = lo + travel(row, xrel, dist)\n",
    "            newpos = c2i(newx, y)\n",
    "        elif face == -1:  # left\n",
    "            row = ar[y][ar[y]>0][::-1]\n",
    "            hi = rowhis[y]\n",
    "            xrel = hi - x\n",
    "            newx = hi - travel(row, xrel, dist)\n",
    "            newpos = c2i(newx, y)\n",
    "        elif face == 1j:  # down\n",
    "            col = ar[:,x][ar[:,x]>0]\n",
    "            lo = collos[x]\n",
    "            yrel = y - lo\n",
    "            newy = lo + travel(col, yrel, dist)\n",
    "            newpos = c2i(x, newy)\n",
    "        elif face == -1j:  # up\n",
    "            col = ar[:,x][ar[:,x]>0][::-1]\n",
    "            hi = colhis[x]\n",
    "            yrel = hi - y\n",
    "            newy = hi - travel(col, yrel, dist)\n",
    "            newpos = c2i(x, newy)\n",
    "        else:\n",
    "            raise RuntimeError(f\"shouldn't reach here, face: {face}\")\n",
    "        # print(f\"updating pos, {i2c(pos)}->{i2c(newpos)}\")\n",
    "        pos = newpos\n",
    "    # break\n",
    "print(\"final:\", pos)\n",
    "password = 0\n",
    "password += (pos.imag + 1)*1000\n",
    "password += (pos.real + 1)*4\n",
    "password += [1, -1j, -1, 1j].index(face)\n",
    "print(\"password:\", int(password))"
   ]
  },
  {
   "cell_type": "markdown",
   "metadata": {},
   "source": [
    "## Part 2"
   ]
  },
  {
   "attachments": {},
   "cell_type": "markdown",
   "metadata": {},
   "source": [
    "# Try next\n",
    "\n",
    "> probably need to encode 3 bits of information and complex number isn't enough\n",
    "> - next side\n",
    "> - flip or not (`DIM - 1 - yin`)\n",
    "> - next face on next side (includes `reverse` or not, only `-1` and `-1j` are reverse)"
   ]
  },
  {
   "cell_type": "code",
   "execution_count": 111,
   "metadata": {},
   "outputs": [],
   "source": [
    "# small params\n",
    "DIM = 4\n",
    "SIDENUMS = np.array([\n",
    "    [0, 0, 1, 0],\n",
    "    [2, 3, 4, 0],\n",
    "    [0, 0, 5, 6]\n",
    "])\n",
    "\n",
    "NBRS = {\n",
    "     -1: {1: 3j, 2:-6j, 3:  2, 4:  3, 5: 3j, 6:  5},  # left\n",
    "      1: {1: -6, 2:  3, 3:  4, 4:-6j, 5:  6, 6: -1},  # right\n",
    "    -1j: {1: -2, 2: -1, 3: 1j, 4:  1, 5:  4, 6:-4j},  # up\n",
    "     1j: {1:  4, 2: -5, 3:-5j, 4:  5, 5: -2, 6:-2j},  # down\n",
    "}"
   ]
  },
  {
   "cell_type": "code",
   "execution_count": 38,
   "metadata": {},
   "outputs": [],
   "source": [
    "# large params\n",
    "DIM = 50\n",
    "SIDENUMS = np.array([\n",
    "    [0, 2, 1],\n",
    "    [0, 3, 0],\n",
    "    [5, 4, 0],\n",
    "    [6, 0, 0]\n",
    "])\n",
    "\n",
    "NBRS = {\n",
    "     -1: {1:  2, 2: -5, 3: 5j, 4:  5, 5: -2, 6: 2j},  # left\n",
    "      1: {1: -4, 2:  1, 3: 1j, 4: -1, 5:  4, 6: 4j},  # right\n",
    "     1j: {1:  6, 2: 6j, 3:  2, 4:  3, 5: 3j, 6:  5},  # up\n",
    "    -1j: {1: 3j, 2:  3, 3:  4, 4: 6j, 5:  6, 6:  1},  # down\n",
    "}"
   ]
  },
  {
   "cell_type": "code",
   "execution_count": 99,
   "metadata": {},
   "outputs": [],
   "source": [
    "def find_side(pos):\n",
    "    # print(i2c(pos), end=\"->\")\n",
    "    pos /= DIM\n",
    "    # print(i2c(pos), end=\"\\t\")\n",
    "    x, y = i2c(pos)\n",
    "    # print(\"x\", x, \"y\", y, \"\\t\", sides[y,x])\n",
    "    return SIDENUMS[y,x]"
   ]
  },
  {
   "cell_type": "code",
   "execution_count": 100,
   "metadata": {},
   "outputs": [],
   "source": [
    "# debug cube\n",
    "nonzeros = list(zip(*ar.nonzero()))\n",
    "ctr = 1\n",
    "for y, x in nonzeros:\n",
    "    ar[y,x] = ctr\n",
    "    ctr += 1\n",
    "# ar"
   ]
  },
  {
   "attachments": {},
   "cell_type": "markdown",
   "metadata": {},
   "source": [
    "```\n",
    "                            +-------------+\n",
    "                            |  1  2  3  4 |           \n",
    "                            |  5  6  7  8 |           \n",
    "                            |  9 10 11 12 |           \n",
    "                            | 13 14 15 16 |           \n",
    "+-------------+-------------+-------------+\n",
    "| 17 18 19 20 | 21 22 23 24 | 25 26 27 28 |           \n",
    "| 29 30 31 32 | 33 34 35 36 | 37 38 39 40 |           \n",
    "| 41 42 43 44 | 45 46 47 48 | 49 50 51 52 |           \n",
    "| 53 54 55 56 | 57 58 59 60 | 61 62 63 64 |\n",
    "+-------------+-------------+-------------+-------------+         \n",
    "                            | 65 66 67 68 | 69 70 71 72 |\n",
    "                            | 73 74 75 76 | 77 78 79 80 |\n",
    "                            | 81 82 83 84 | 85 86 87 88 |\n",
    "                            | 89 90 91 92 | 93 94 95 96 |\n",
    "                            +-------------+-------------+\n",
    "```"
   ]
  },
  {
   "cell_type": "code",
   "execution_count": 101,
   "metadata": {},
   "outputs": [],
   "source": [
    "SIDES = dict()\n",
    "for sy, srow in enum(SIDENUMS):\n",
    "    for sx, sidenum in enum(srow):\n",
    "        if sidenum:\n",
    "            SIDES[sidenum] = ar[sy*DIM:(sy+1)*DIM, sx*DIM:(sx+1)*DIM]\n",
    "            # print(\"extracted side\", sidenum)\n",
    "            # print(ar[sy*DIM:(sy+1)*DIM, sx*DIM:(sx+1)*DIM])"
   ]
  },
  {
   "cell_type": "code",
   "execution_count": 109,
   "metadata": {},
   "outputs": [],
   "source": [
    "def collect_strips(ar, pos, face):\n",
    "    def isneg(cn):\n",
    "        return cn.real < 0 or cn.imag < 0\n",
    "    x, y = i2c(pos)\n",
    "    xin, yin = x%DIM, y%DIM\n",
    "    side = find_side(pos)\n",
    "    \n",
    "    strips = []\n",
    "    for i in range(4):\n",
    "        if face.imag == 0:  # horizontal strip\n",
    "            strip = SIDES[side][yin]\n",
    "        else:  # vertical strip\n",
    "            strip = SIDES[side][:,xin]\n",
    "        if isneg(face): strip = strip[::-1]\n",
    "        print(\"strip\", i, strip)\n",
    "        strips.append(strip)\n",
    "        print()\n",
    "        \n",
    "        # prepare for next strip\n",
    "        nxt = NBRS[face][side]\n",
    "        nxtside = int(abs(nxt))\n",
    "        nxtface = nxt/nxtside\n",
    "        side = nxtside\n",
    "        print(\"face\", face, \"\\tnxtface\", nxtface, \"\\tprod\", face*nxtface)\n",
    "        face *= nxtface\n",
    "        if isneg(nxtface):\n",
    "            yin = (DIM - 1) - yin\n",
    "            xin = (DIM - 1) - xin\n",
    "        print(\"next side\", nxtside, \"\\tface\", face, \"\\tyin\", yin)\n",
    "    return np.hstack(strips)"
   ]
  },
  {
   "cell_type": "code",
   "execution_count": 110,
   "metadata": {},
   "outputs": [
    {
     "name": "stdout",
     "output_type": "stream",
     "text": [
      "strip 0 [96 95 94 93]\n",
      "\n",
      "face -1 \tnxtface 1.0 \tprod -1.0\n",
      "next side 5 \tface -1.0 \tyin 3\n",
      "strip 1 [92 91 90 89]\n",
      "\n",
      "face -1.0 \tnxtface 1j \tprod (-0-1j)\n",
      "next side 3 \tface (-0-1j) \tyin 3\n",
      "strip 2 [60 48 36 24]\n",
      "\n",
      "face (-0-1j) \tnxtface 1j \tprod (1-0j)\n",
      "next side 1 \tface (1-0j) \tyin 3\n",
      "strip 3 [13 14 15 16]\n",
      "\n",
      "face (1-0j) \tnxtface -1.0 \tprod (-1+0j)\n",
      "next side 6 \tface (-1+0j) \tyin 0\n"
     ]
    },
    {
     "data": {
      "text/plain": [
       "array([96, 95, 94, 93, 92, 91, 90, 89, 60, 48, 36, 24, 13, 14, 15, 16])"
      ]
     },
     "execution_count": 110,
     "metadata": {},
     "output_type": "execute_result"
    }
   ],
   "source": [
    "#collect_strips(ar, 8+0j, 1)\n",
    "#1,2,3,4,96,95,94,93,92,91,90,89,57,45,33,21\n",
    "collect_strips(ar, 15+11j, -1)"
   ]
  },
  {
   "cell_type": "code",
   "execution_count": 40,
   "metadata": {},
   "outputs": [],
   "source": [
    "def extract_strip(ar, pos, face):\n",
    "    x, y = i2c(pos)\n",
    "    xin, yin = x%DIM, y%DIM\n",
    "    side = find_side(pos)\n",
    "    if face == 1:\n",
    "        # strip = []\n",
    "        # curside = side\n",
    "        # curface = face\n",
    "        # curyin = yin\n",
    "        # reverse = False\n",
    "        # for i in range(4):\n",
    "        #     curstrip = SIDES[curside][curyin]\n",
    "        #     if reverse: curstrip = curstrip[::-1]\n",
    "        #     print(\"strip\", i, curstrip)\n",
    "        #     strip = np.hstack((strip, curstrip))\n",
    "        #     # prepare for next strip\n",
    "        #     nextside = NBRS[curface][curside]\n",
    "        #     print(\"next side\", nextside)\n",
    "        #     if nextside < 0:\n",
    "        #         curface = -curface\n",
    "        #         curside = -curside\n",
    "        #         curyin = (DIM - 1) - curyin\n",
    "        #         reverse = not reverse\n",
    "\n",
    "        strip0 = SIDES[side][yin]\n",
    "        print(\"strip 0\", strip0)\n",
    "        side1 = NBRS[face][side]\n",
    "        print(\"side1\", side1)\n",
    "        if side1 < 0:\n",
    "            face1 = -face\n",
    "            side1 = -side1\n",
    "            yin = (DIM - 1) - yin\n",
    "            strip1 = SIDES[side1][yin][::-1]\n",
    "        else:\n",
    "            strip1 = SIDES[side1][yin]\n",
    "        print(\"strip 1\", strip1)\n",
    "        side2 = NBRS[face1][side1]\n",
    "        print(\"side2\", side2)\n",
    "        if side2 < 0:\n",
    "            face2 = -face1\n",
    "            side2 = -side2\n",
    "            yin = (DIM - 1) - yin\n",
    "            print(\"side2 yin(rev)\", yin)\n",
    "            strip2 = SIDES[side2][yin][::-1]\n",
    "        else:\n",
    "            print(\"side2 yin\", yin)\n",
    "            strip2 = SIDES[side2][yin]\n",
    "        print(\"strip 2\", strip2)\n"
   ]
  },
  {
   "cell_type": "code",
   "execution_count": 42,
   "metadata": {},
   "outputs": [
    {
     "name": "stdout",
     "output_type": "stream",
     "text": [
      "strip 0 [1 1 1 2]\n",
      "side1 -6\n",
      "strip 1 [1 2 1 1]\n",
      "side2 5\n",
      "side2 yin 3\n",
      "strip 2 [1 2 1 1]\n"
     ]
    }
   ],
   "source": [
    "extract_strip(ar, 8+0j, 1)"
   ]
  },
  {
   "cell_type": "code",
   "execution_count": 12,
   "metadata": {},
   "outputs": [],
   "source": [
    "def extract_vstrip(ar, pos, face):\n",
    "    if face == -1j:  # down\n",
    "        col = ar[:,x][ar[:,x]>0]\n",
    "        lo = collos[x]\n",
    "        yrel = y - lo\n",
    "        newy = lo + travel(col, yrel, dist)\n",
    "    elif face == 1j:  # up\n",
    "        col = ar[:,x][ar[:,x]>0][::-1]\n",
    "        hi = colhis[x]\n",
    "        yrel = hi - y\n",
    "        newy = hi - travel(col, yrel, dist)\n",
    "    else:\n",
    "        raise ValueError(f\"extract_vstrip got face {face}\")\n",
    "    return c2i(x, newy)"
   ]
  },
  {
   "cell_type": "code",
   "execution_count": 23,
   "metadata": {},
   "outputs": [
    {
     "name": "stdout",
     "output_type": "stream",
     "text": [
      "updating pos, (8, 0)->(10, 0)\n",
      "(10, 0)->(2, 0)\tx 2 y 0 \t 1\n",
      "updating pos, (10, 0)->(10, 5)\n",
      "(10, 5)->(2, 1)\tx 2 y 1 \t 4\n",
      "updating pos, (10, 5)->(3, 5)\n",
      "(3, 5)->(0, 1)\tx 0 y 1 \t 2\n",
      "updating pos, (3, 5)->(3, 7)\n",
      "(3, 7)->(0, 1)\tx 0 y 1 \t 2\n",
      "updating pos, (3, 7)->(7, 7)\n",
      "(7, 7)->(1, 1)\tx 1 y 1 \t 3\n",
      "updating pos, (7, 7)->(7, 5)\n",
      "(7, 5)->(1, 1)\tx 1 y 1 \t 3\n",
      "updating pos, (7, 5)->(7, 5)\n",
      "(7, 5)->(1, 1)\tx 1 y 1 \t 3\n",
      "final: (7+5j)\n",
      "password: 6032\n"
     ]
    }
   ],
   "source": [
    "pos = c2i(rowlos[0], collos[rowlos[0]])\n",
    "face = 1+0j\n",
    "for move in path:\n",
    "    if move == \"R\":\n",
    "        face *= -1j\n",
    "        # print(\"turning right\", face)\n",
    "    elif move == \"L\":\n",
    "        face *= 1j\n",
    "        # print(\"turning left\", face)\n",
    "    else:\n",
    "        dist = int(move)\n",
    "        x, y = i2c(pos)\n",
    "        if face == 1:  # right/left\n",
    "            row = ar[y][ar[y]>0]\n",
    "            lo = rowlos[y]\n",
    "            xrel = x - lo\n",
    "            newx = lo + travel(row, xrel, dist)\n",
    "            newpos = c2i(newx, y)\n",
    "        elif face == -1:  # left\n",
    "            row = ar[y][ar[y]>0][::-1]\n",
    "            hi = rowhis[y]\n",
    "            xrel = hi - x\n",
    "            newx = hi - travel(row, xrel, dist)\n",
    "            newpos = c2i(newx, y)\n",
    "        elif face == -1j:  # down\n",
    "            col = ar[:,x][ar[:,x]>0]\n",
    "            lo = collos[x]\n",
    "            yrel = y - lo\n",
    "            newy = lo + travel(col, yrel, dist)\n",
    "            newpos = c2i(x, newy)\n",
    "        elif face == 1j:  # up\n",
    "            col = ar[:,x][ar[:,x]>0][::-1]\n",
    "            hi = colhis[x]\n",
    "            yrel = hi - y\n",
    "            newy = hi - travel(col, yrel, dist)\n",
    "            newpos = c2i(x, newy)\n",
    "        else:\n",
    "            raise RuntimeError(f\"shouldn't reach here, face: {face}\")\n",
    "        print(f\"updating pos, {i2c(pos)}->{i2c(newpos)}\")\n",
    "        find_side(newpos)\n",
    "        pos = newpos\n",
    "    # break\n",
    "print(\"final:\", pos)\n",
    "password = 0\n",
    "password += (pos.imag + 1)*1000\n",
    "password += (pos.real + 1)*4\n",
    "password += [1, -1j, -1, 1j].index(face)\n",
    "print(\"password:\", int(password))"
   ]
  }
 ],
 "metadata": {
  "kernelspec": {
   "display_name": "local-venv",
   "language": "python",
   "name": "local-venv"
  },
  "orig_nbformat": 4
 },
 "nbformat": 4,
 "nbformat_minor": 2
}
