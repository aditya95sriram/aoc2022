{
 "cells": [
  {
   "cell_type": "code",
   "execution_count": 1,
   "metadata": {},
   "outputs": [],
   "source": [
    "import re, os, sys\n",
    "from functools import reduce\n",
    "from itertools import combinations as comb, permutations as perm, combinations_with_replacement as combr\n",
    "from operator import itemgetter\n",
    "from pprint import pprint\n",
    "from math import *\n",
    "from collections import defaultdict\n",
    "import networkx as nx\n",
    "import numpy as np\n",
    "\n",
    "def dprint(d):\n",
    "    pprint(dict(d))\n",
    "def lmap(*args, **kwargs):\n",
    "    return list(map(*args, **kwargs))\n",
    "def lmapi(*args, **kwargs):\n",
    "    return list(map(int, *args, **kwargs))\n",
    "def enum(*args, **kwargs):\n",
    "    return enumerate(*args, **kwargs)"
   ]
  },
  {
   "cell_type": "code",
   "execution_count": 82,
   "metadata": {},
   "outputs": [],
   "source": [
    "input_fname = \"../inputs/day23-demo.in\""
   ]
  },
  {
   "cell_type": "code",
   "execution_count": 93,
   "metadata": {},
   "outputs": [],
   "source": [
    "input_fname = \"../inputs/day23.in\""
   ]
  },
  {
   "cell_type": "code",
   "execution_count": 94,
   "metadata": {},
   "outputs": [],
   "source": [
    "def reread():\n",
    "    lines = []\n",
    "    with open(input_fname) as ifile:\n",
    "        def r(): return ifile.readline().strip()\n",
    "        def rs(): return ifile.readline().strip().split()\n",
    "        def ri(): return int(ifile.readline().strip())\n",
    "        def ris(): return list(map(int, ifile.readline().strip().split()))\n",
    "\n",
    "        # decide between two possible methods of reading input\n",
    "        \n",
    "        rows = []\n",
    "        # method 1\n",
    "        for line in ifile:\n",
    "            rows.append([1 if c == \"#\" else 0 for c in line.strip()])\n",
    "        return np.array(rows)\n",
    "\n",
    "ar = reread()\n",
    "# ar"
   ]
  },
  {
   "cell_type": "code",
   "execution_count": 34,
   "metadata": {},
   "outputs": [],
   "source": [
    "def pad_as_needed(ar):\n",
    "    if sum(ar[0]):\n",
    "        ar = np.pad(ar, ((1,0), (0,0)))\n",
    "    if sum(ar[-1]):\n",
    "        ar = np.pad(ar, ((0,1), (0,0)))\n",
    "    if sum(ar[:,0]):\n",
    "        ar = np.pad(ar, ((0,0), (1,0)))\n",
    "    if sum(ar[:,-1]):\n",
    "        ar = np.pad(ar, ((0,0), (0,1)))\n",
    "    return ar``"
   ]
  },
  {
   "cell_type": "code",
   "execution_count": 35,
   "metadata": {},
   "outputs": [],
   "source": [
    "dirs = np.array([[i,j] for i in (-1,0,1) for j in (-1,0,1) if i or j])\n",
    "NW, N, NE, W, E, SW, S, SE = dirs"
   ]
  },
  {
   "attachments": {},
   "cell_type": "markdown",
   "metadata": {},
   "source": [
    "## Part 1"
   ]
  },
  {
   "cell_type": "code",
   "execution_count": 36,
   "metadata": {},
   "outputs": [],
   "source": [
    "def check(ar, x, y, dis):\n",
    "    for dy, dx in dis:\n",
    "        if ar[y+dy, x+dx]:\n",
    "            # print(\"found at\", dy, dx)\n",
    "            return False\n",
    "    return True"
   ]
  },
  {
   "cell_type": "code",
   "execution_count": 37,
   "metadata": {},
   "outputs": [],
   "source": [
    "checkdirs = [(N, NE, NW), (S, SE, SW), (W, NW, SW), (E, NE, SE)]\n",
    "from itertools import cycle"
   ]
  },
  {
   "cell_type": "code",
   "execution_count": 106,
   "metadata": {},
   "outputs": [],
   "source": [
    "def do_round(ar):\n",
    "    elves = list(zip(*ar.nonzero()))\n",
    "    proposals = dict()\n",
    "    # first half, consider to move\n",
    "    for y, x in elves:\n",
    "        # check if any surrounding elves\n",
    "        if np.sum(ar[y-1:y+2,x-1:x+2]) == 1:\n",
    "            # print(y, x, \"no elves around\")\n",
    "            continue\n",
    "        ny = nx = None\n",
    "        for i in range(4):\n",
    "            if check(ar, x, y, checkdirs[(r+i)%4]):\n",
    "                ny, nx = checkdirs[(r+i)%4][0] + [y, x]\n",
    "                # print(y, x, \"free to move\", ny, nx)\n",
    "                break\n",
    "        if ny is None and nx is None:\n",
    "            # print(y, x, \"elves all around\")\n",
    "            continue\n",
    "        if (ny, nx) not in proposals:\n",
    "            # print(y, x, \"found free\", ny, nx)\n",
    "            proposals[(ny, nx)] = y, x\n",
    "        else:\n",
    "            # print(y, x, \"clashed\", ny, nx)\n",
    "            proposals[(ny, nx)] = None\n",
    "    \n",
    "    # second half, actually move\n",
    "    rr = ar.copy()\n",
    "    for (ny, nx), src in proposals.items():\n",
    "        if src is None: continue\n",
    "        rr[ny, nx] = 1\n",
    "        sy, sx = src\n",
    "        assert ar[sy, sx] == 1, \"no elf found at src\"\n",
    "        rr[sy, sx] = 0\n",
    "    return rr"
   ]
  },
  {
   "cell_type": "code",
   "execution_count": 107,
   "metadata": {},
   "outputs": [],
   "source": [
    "rr = pad_as_needed(ar)\n",
    "for r in range(10):\n",
    "    rr = do_round(rr)\n",
    "    rr = pad_as_needed(rr)\n",
    "# for row in rr: print(\"\".join(\".#\"[e] for e in row))"
   ]
  },
  {
   "cell_type": "code",
   "execution_count": 101,
   "metadata": {},
   "outputs": [],
   "source": [
    "def trim_array(ar):\n",
    "    if not sum(ar[0]):\n",
    "        ar = ar[1:]\n",
    "    if not sum(ar[-1]):\n",
    "        ar = ar[:-1]\n",
    "    if not sum(ar[:,0]):\n",
    "        ar = ar[:,1:]\n",
    "    if not sum(ar[:,-1]):\n",
    "        ar = ar[:,:-1]\n",
    "    return ar"
   ]
  },
  {
   "cell_type": "code",
   "execution_count": 102,
   "metadata": {},
   "outputs": [
    {
     "name": "stdout",
     "output_type": "stream",
     "text": [
      "4052\n"
     ]
    }
   ],
   "source": [
    "fr = trim_array(rr)\n",
    "print(fr.size - np.sum(fr))"
   ]
  },
  {
   "cell_type": "markdown",
   "metadata": {},
   "source": [
    "## Part 2"
   ]
  },
  {
   "cell_type": "code",
   "execution_count": 103,
   "metadata": {},
   "outputs": [],
   "source": [
    "def do_round(ar, r):\n",
    "    elves = list(zip(*ar.nonzero()))\n",
    "    proposals = dict()\n",
    "    # first half, consider to move\n",
    "    for y, x in elves:\n",
    "        # check if any surrounding elves\n",
    "        if np.sum(ar[y-1:y+2,x-1:x+2]) == 1:\n",
    "            # print(y, x, \"no elves around\")\n",
    "            continue\n",
    "        ny = nx = None\n",
    "        for i in range(4):\n",
    "            if check(ar, x, y, checkdirs[(r+i)%4]):\n",
    "                ny, nx = checkdirs[(r+i)%4][0] + [y, x]\n",
    "                # print(y, x, \"free to move\", ny, nx)\n",
    "                break\n",
    "        if ny is None and nx is None:\n",
    "            # print(y, x, \"elves all around\")\n",
    "            continue\n",
    "        if (ny, nx) not in proposals:\n",
    "            # print(y, x, \"found free\", ny, nx)\n",
    "            proposals[(ny, nx)] = y, x\n",
    "        else:\n",
    "            # print(y, x, \"clashed\", ny, nx)\n",
    "            proposals[(ny, nx)] = None\n",
    "    \n",
    "    # second half, actually move\n",
    "    rr = ar.copy()\n",
    "    moved = False\n",
    "    for (ny, nx), src in proposals.items():\n",
    "        moved = True\n",
    "        if src is None: continue\n",
    "        rr[ny, nx] = 1\n",
    "        sy, sx = src\n",
    "        assert ar[sy, sx] == 1, \"no elf found at src\"\n",
    "        rr[sy, sx] = 0\n",
    "    if moved:\n",
    "        return rr\n",
    "    else:\n",
    "        return None"
   ]
  },
  {
   "cell_type": "code",
   "execution_count": 104,
   "metadata": {},
   "outputs": [
    {
     "name": "stderr",
     "output_type": "stream",
     "text": [
      " 10%|▉         | 977/10000 [00:46<07:13, 20.81it/s]"
     ]
    },
    {
     "name": "stdout",
     "output_type": "stream",
     "text": [
      "no move round 978\n"
     ]
    },
    {
     "name": "stderr",
     "output_type": "stream",
     "text": [
      "\n"
     ]
    }
   ],
   "source": [
    "from tqdm import trange\n",
    "rr = pad_as_needed(ar)\n",
    "for r in trange(10000):\n",
    "    nr = do_round(rr, r)\n",
    "    if nr is None:\n",
    "        print(\"no move round\", r+1)\n",
    "        break\n",
    "    else:\n",
    "        rr = pad_as_needed(nr)\n",
    "# for row in rr: print(\"\".join(\".#\"[e] for e in row))"
   ]
  }
 ],
 "metadata": {
  "kernelspec": {
   "display_name": "local-venv",
   "language": "python",
   "name": "local-venv"
  },
  "language_info": {
   "codemirror_mode": {
    "name": "ipython",
    "version": 3
   },
   "file_extension": ".py",
   "mimetype": "text/x-python",
   "name": "python",
   "nbconvert_exporter": "python",
   "pygments_lexer": "ipython3",
   "version": "3.10.6"
  },
  "orig_nbformat": 4
 },
 "nbformat": 4,
 "nbformat_minor": 2
}
