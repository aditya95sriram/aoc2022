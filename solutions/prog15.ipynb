{
 "cells": [
  {
   "cell_type": "code",
   "execution_count": 1,
   "metadata": {},
   "outputs": [],
   "source": [
    "import re, os, sys\n",
    "from functools import reduce\n",
    "from itertools import combinations as comb, permutations as perm, combinations_with_replacement as combr\n",
    "from operator import itemgetter\n",
    "from pprint import pprint\n",
    "from math import *\n",
    "from collections import defaultdict\n",
    "import networkx as nx\n",
    "import numpy as np\n",
    "from dataclasses import dataclass, field\n",
    "\n",
    "def dprint(d):\n",
    "    pprint(dict(d))\n",
    "def lmap(*args, **kwargs):\n",
    "    return list(map(*args, **kwargs))\n",
    "def lmapi(*args, **kwargs):\n",
    "    return list(map(int, *args, **kwargs))\n",
    "def enum(*args, **kwargs):\n",
    "    return enumerate(*args, **kwargs)"
   ]
  },
  {
   "cell_type": "code",
   "execution_count": 4,
   "metadata": {},
   "outputs": [],
   "source": [
    "input_fname = \"../inputs/day15-demo.in\""
   ]
  },
  {
   "cell_type": "code",
   "execution_count": 32,
   "metadata": {},
   "outputs": [],
   "source": [
    "input_fname = \"../inputs/day15.in\""
   ]
  },
  {
   "cell_type": "code",
   "execution_count": 33,
   "metadata": {},
   "outputs": [
    {
     "data": {
      "text/plain": [
       "[((1638847, 3775370), (2498385, 3565515)),\n",
       " ((3654046, 17188), (3628729, 113719)),\n",
       " ((3255262, 2496809), (3266439, 2494761)),\n",
       " ((3743681, 1144821), (3628729, 113719)),\n",
       " ((801506, 2605771), (1043356, 2000000)),\n",
       " ((2933878, 5850), (3628729, 113719)),\n",
       " ((3833210, 12449), (3628729, 113719)),\n",
       " ((2604874, 3991135), (2498385, 3565515)),\n",
       " ((1287765, 1415912), (1043356, 2000000)),\n",
       " ((3111474, 3680987), (2498385, 3565515))]"
      ]
     },
     "execution_count": 33,
     "metadata": {},
     "output_type": "execute_result"
    }
   ],
   "source": [
    "def reread():\n",
    "    lines = []\n",
    "    with open(input_fname) as ifile:\n",
    "        def r(): return ifile.readline().strip()\n",
    "        def rs(): return ifile.readline().strip().split()\n",
    "        def ri(): return int(ifile.readline().strip())\n",
    "        def ris(): return list(map(int, ifile.readline().strip().split()))\n",
    "\n",
    "        minx = miny = 1000\n",
    "        maxx = maxy = 0\n",
    "        for line in ifile:\n",
    "            line = line.replace(\"Sensor at x=\", \"\") \\\n",
    "                       .replace(\", y=\", \" \") \\\n",
    "                       .replace(\": closest beacon is at x=\", \" \")\n",
    "            sensorx, sensory, beaconx, beacony = lmapi(line.split())\n",
    "            minx = min(minx, sensorx, beaconx)\n",
    "            maxx = max(maxx, sensorx, beaconx)\n",
    "            miny = min(miny, sensory, beacony)\n",
    "            maxy = max(maxy, sensory, beacony)\n",
    "            lines.append(((sensorx, sensory), (beaconx, beacony)))\n",
    "\n",
    "    return minx, maxx, miny, maxy, lines\n",
    "\n",
    "minx, maxx, miny, maxy, lines = reread()\n",
    "lines[:10]"
   ]
  },
  {
   "cell_type": "code",
   "execution_count": 34,
   "metadata": {},
   "outputs": [],
   "source": [
    "from tqdm import trange"
   ]
  },
  {
   "attachments": {},
   "cell_type": "markdown",
   "metadata": {},
   "source": [
    "## Part 1"
   ]
  },
  {
   "cell_type": "code",
   "execution_count": 5,
   "metadata": {},
   "outputs": [
    {
     "data": {
      "text/plain": [
       "(-645204, 3983949, 1000, 4169166)"
      ]
     },
     "execution_count": 5,
     "metadata": {},
     "output_type": "execute_result"
    }
   ],
   "source": [
    "minx, maxx, miny, maxy"
   ]
  },
  {
   "cell_type": "code",
   "execution_count": 32,
   "metadata": {},
   "outputs": [
    {
     "data": {
      "text/plain": [
       "4724228"
      ]
     },
     "execution_count": 32,
     "metadata": {},
     "output_type": "execute_result"
    }
   ],
   "source": [
    "# ar = np.zeros((maxx-minx+1, maxy-miny+1), dtype=int)\n",
    "intervals = []\n",
    "Y = 10\n",
    "Y = 2000000\n",
    "for (sx, sy), (bx, by) in lines:\n",
    "    d = abs(sx - bx) + abs(sy - by)\n",
    "    coverw = d - abs(sy - Y)\n",
    "    if coverw >= 0:\n",
    "        intervals.append((sx-coverw, sx+coverw+1))\n",
    "minintx = min(map(itemgetter(0), intervals))\n",
    "maxintx = max(map(itemgetter(1), intervals))\n",
    "\n",
    "# print(minintx, intervals)\n",
    "ar = np.zeros(maxintx-minintx+1, dtype=int)\n",
    "for l, r in intervals:\n",
    "    ar[l-minintx: r-minintx] = 1\n",
    "for _, (bx, by) in lines:\n",
    "    if by == Y:\n",
    "        ar[bx] = 0\n",
    "ar.sum()"
   ]
  },
  {
   "cell_type": "markdown",
   "metadata": {},
   "source": [
    "## Part 2"
   ]
  },
  {
   "attachments": {},
   "cell_type": "markdown",
   "metadata": {},
   "source": [
    "### Attempt 1\n",
    "(naive)"
   ]
  },
  {
   "cell_type": "code",
   "execution_count": 83,
   "metadata": {},
   "outputs": [
    {
     "name": "stderr",
     "output_type": "stream",
     "text": [
      "  0%|          | 775/4000001 [00:09<13:26:30, 82.64it/s]\n"
     ]
    },
    {
     "ename": "KeyboardInterrupt",
     "evalue": "",
     "output_type": "error",
     "traceback": [
      "\u001b[0;31m---------------------------------------------------------------------------\u001b[0m",
      "\u001b[0;31mKeyboardInterrupt\u001b[0m                         Traceback (most recent call last)",
      "Cell \u001b[0;32mIn[83], line 6\u001b[0m\n\u001b[1;32m      4\u001b[0m ds \u001b[39m=\u001b[39m [\u001b[39mabs\u001b[39m(sx \u001b[39m-\u001b[39m bx) \u001b[39m+\u001b[39m \u001b[39mabs\u001b[39m(sy \u001b[39m-\u001b[39m by) \u001b[39mfor\u001b[39;00m (sx, sy), (bx, by) \u001b[39min\u001b[39;00m lines]\n\u001b[1;32m      5\u001b[0m \u001b[39mfor\u001b[39;00m Y \u001b[39min\u001b[39;00m trange(maxdim):\n\u001b[0;32m----> 6\u001b[0m     ar\u001b[39m.\u001b[39;49mfill(\u001b[39m1\u001b[39;49m)\n\u001b[1;32m      7\u001b[0m     \u001b[39mfor\u001b[39;00m ((sx, sy), _), d \u001b[39min\u001b[39;00m \u001b[39mzip\u001b[39m(lines,ds):\n\u001b[1;32m      8\u001b[0m         \u001b[39m# d = abs(sx - bx) + abs(sy - by)\u001b[39;00m\n\u001b[1;32m      9\u001b[0m         coverw \u001b[39m=\u001b[39m d \u001b[39m-\u001b[39m \u001b[39mabs\u001b[39m(sy \u001b[39m-\u001b[39m Y)\n",
      "\u001b[0;31mKeyboardInterrupt\u001b[0m: "
     ]
    }
   ],
   "source": [
    "maxdim = 20 + 1\n",
    "maxdim = 4000000 + 1\n",
    "ar = np.zeros(maxdim, dtype=int)\n",
    "ds = [abs(sx - bx) + abs(sy - by) for (sx, sy), (bx, by) in lines]\n",
    "for Y in trange(maxdim):\n",
    "    ar.fill(1)\n",
    "    for ((sx, sy), _), d in zip(lines,ds):\n",
    "        # d = abs(sx - bx) + abs(sy - by)\n",
    "        coverw = d - abs(sy - Y)\n",
    "        if coverw >= 0:\n",
    "            # print(\"found\", Y, coverw, sx-coverw, sx+coverw+1)\n",
    "            ar[max(sx-coverw,0): sx+coverw+1] = 0\n",
    "    if np.count_nonzero(ar):\n",
    "        miss = list(zip(*np.nonzero(ar)))\n",
    "        missx = miss[0][0]\n",
    "        print(missx, Y, missx*4000000 + Y)\n",
    "        break\n",
    "# print(miss)\n",
    "# missy, missx = miss[0]\n",
    "# print(missx * 4000000 + missy)\n"
   ]
  },
  {
   "cell_type": "code",
   "execution_count": 87,
   "metadata": {},
   "outputs": [
    {
     "name": "stderr",
     "output_type": "stream",
     "text": [
      "100%|██████████| 21/21 [00:00<00:00, 12750.49it/s]\n"
     ]
    },
    {
     "data": {
      "text/plain": [
       "array([[1, 1, 1, 1, 1, 1, 2, 2, 2, 2, 2, 1, 2, 1, 2, 1, 1, 1, 1, 1, 1],\n",
       "       [1, 1, 1, 1, 1, 2, 2, 2, 2, 2, 2, 3, 1, 2, 2, 2, 1, 1, 1, 1, 1],\n",
       "       [1, 1, 1, 1, 2, 2, 2, 2, 2, 2, 3, 2, 2, 1, 3, 2, 3, 1, 1, 1, 1],\n",
       "       [1, 1, 1, 2, 2, 2, 2, 2, 2, 2, 1, 2, 2, 3, 2, 4, 2, 2, 1, 1, 1],\n",
       "       [1, 1, 2, 2, 2, 2, 2, 2, 2, 1, 1, 1, 2, 2, 4, 1, 2, 2, 2, 1, 1],\n",
       "       [1, 2, 2, 2, 2, 2, 2, 2, 1, 1, 1, 1, 1, 3, 2, 2, 1, 2, 2, 2, 1],\n",
       "       [2, 2, 2, 2, 2, 2, 2, 1, 1, 1, 1, 1, 2, 2, 2, 2, 2, 1, 2, 2, 3],\n",
       "       [2, 2, 2, 2, 2, 2, 1, 1, 1, 1, 1, 2, 2, 2, 2, 2, 2, 2, 1, 3, 3],\n",
       "       [3, 2, 2, 2, 2, 1, 1, 1, 1, 1, 1, 1, 2, 2, 2, 2, 2, 1, 2, 2, 3],\n",
       "       [1, 3, 2, 2, 1, 1, 1, 1, 1, 1, 1, 1, 1, 2, 2, 2, 1, 2, 2, 2, 1],\n",
       "       [1, 1, 3, 1, 1, 1, 1, 1, 1, 1, 1, 1, 2, 1, 2, 1, 2, 2, 2, 1, 1],\n",
       "       [1, 1, 2, 2, 1, 1, 1, 1, 1, 1, 1, 2, 2, 2, 0, 2, 2, 2, 1, 1, 1],\n",
       "       [1, 2, 2, 1, 1, 1, 1, 1, 1, 1, 2, 2, 2, 1, 3, 1, 2, 1, 1, 1, 1],\n",
       "       [2, 2, 1, 1, 1, 1, 1, 1, 1, 2, 2, 2, 1, 3, 3, 3, 1, 1, 1, 1, 1],\n",
       "       [2, 1, 1, 1, 1, 1, 1, 1, 2, 2, 2, 1, 3, 3, 3, 3, 3, 2, 1, 1, 1],\n",
       "       [1, 1, 1, 1, 1, 1, 1, 1, 1, 3, 1, 2, 2, 3, 3, 3, 3, 3, 2, 1, 1],\n",
       "       [1, 1, 1, 1, 1, 1, 1, 1, 2, 1, 4, 2, 2, 2, 3, 3, 3, 3, 3, 2, 1],\n",
       "       [1, 1, 1, 1, 1, 1, 1, 1, 1, 3, 2, 3, 2, 2, 2, 3, 3, 3, 3, 3, 2],\n",
       "       [1, 1, 1, 1, 1, 1, 1, 1, 2, 2, 2, 2, 3, 2, 2, 2, 3, 3, 3, 2, 2],\n",
       "       [1, 1, 1, 1, 1, 1, 1, 2, 2, 1, 1, 2, 3, 3, 2, 2, 2, 3, 2, 2, 2],\n",
       "       [1, 1, 1, 1, 1, 1, 2, 2, 1, 1, 1, 2, 3, 3, 3, 2, 2, 1, 2, 2, 2]])"
      ]
     },
     "execution_count": 87,
     "metadata": {},
     "output_type": "execute_result"
    }
   ],
   "source": [
    "maxdim = 20 + 1\n",
    "# maxdim = 4000000 + 1\n",
    "ar = np.zeros((maxdim, maxdim), dtype=int)\n",
    "ds = [abs(sx - bx) + abs(sy - by) for (sx, sy), (bx, by) in lines]\n",
    "for Y in trange(maxdim):\n",
    "    # ar.fill(1)\n",
    "    for ((sx, sy), _), d in zip(lines,ds):\n",
    "        # d = abs(sx - bx) + abs(sy - by)\n",
    "        coverw = d - abs(sy - Y)\n",
    "        if coverw >= 0:\n",
    "            # print(\"found\", Y, coverw, sx-coverw, sx+coverw+1)\n",
    "            ar[Y,max(sx-coverw,0): sx+coverw+1] += 1\n",
    "    # if np.count_nonzero(ar):\n",
    "    #     miss = list(zip(*np.nonzero(ar)))\n",
    "    #     missx = miss[0][0]\n",
    "    #     print(missx, Y, missx*4000000 + Y)\n",
    "    #     break\n",
    "# print(miss)\n",
    "# missy, missx = miss[0]\n",
    "# print(missx * 4000000 + missy)\n",
    "ar\n"
   ]
  },
  {
   "cell_type": "code",
   "execution_count": 88,
   "metadata": {},
   "outputs": [],
   "source": [
    "from matplotlib import pyplot as plt"
   ]
  },
  {
   "cell_type": "code",
   "execution_count": 93,
   "metadata": {},
   "outputs": [
    {
     "name": "stdout",
     "output_type": "stream",
     "text": [
      "1 1 1 1 1 1 2 2 2 2 2 1 2 1 2 1 1 1 1 1 1\n",
      "1 1 1 1 1 2 2 2 2 2 2 3 1 2 2 2 1 1 1 1 1\n",
      "1 1 1 1 2 2 2 2 2 2 3 2 2 1 3 2 3 1 1 1 1\n",
      "1 1 1 2 2 2 2 2 2 2 1 2 2 3 2 4 2 2 1 1 1\n",
      "1 1 2 2 2 2 2 2 2 1 1 1 2 2 4 1 2 2 2 1 1\n",
      "1 2 2 2 2 2 2 2 1 1 1 1 1 3 2 2 1 2 2 2 1\n",
      "2 2 2 2 2 2 2 1 1 1 1 1 2 2 2 2 2 1 2 2 3\n",
      "2 2 2 2 2 2 1 1 1 1 1 2 2 2 2 2 2 2 1 3 3\n",
      "3 2 2 2 2 1 1 1 1 1 1 1 2 2 2 2 2 1 2 2 3\n",
      "1 3 2 2 1 1 1 1 1 1 1 1 1 2 2 2 1 2 2 2 1\n",
      "1 1 3 1 1 1 1 1 1 1 1 1 2 1 2 1 2 2 2 1 1\n",
      "1 1 2 2 1 1 1 1 1 1 1 2 2 2 0 2 2 2 1 1 1\n",
      "1 2 2 1 1 1 1 1 1 1 2 2 2 1 3 1 2 1 1 1 1\n",
      "2 2 1 1 1 1 1 1 1 2 2 2 1 3 3 3 1 1 1 1 1\n",
      "2 1 1 1 1 1 1 1 2 2 2 1 3 3 3 3 3 2 1 1 1\n",
      "1 1 1 1 1 1 1 1 1 3 1 2 2 3 3 3 3 3 2 1 1\n",
      "1 1 1 1 1 1 1 1 2 1 4 2 2 2 3 3 3 3 3 2 1\n",
      "1 1 1 1 1 1 1 1 1 3 2 3 2 2 2 3 3 3 3 3 2\n",
      "1 1 1 1 1 1 1 1 2 2 2 2 3 2 2 2 3 3 3 2 2\n",
      "1 1 1 1 1 1 1 2 2 1 1 2 3 3 2 2 2 3 2 2 2\n",
      "1 1 1 1 1 1 2 2 1 1 1 2 3 3 3 2 2 1 2 2 2\n"
     ]
    }
   ],
   "source": [
    "for row in ar:\n",
    "    print(\" \".join(map(str,row)))\n",
    "    print()"
   ]
  },
  {
   "attachments": {},
   "cell_type": "markdown",
   "metadata": {},
   "source": [
    "### Attempt 2\n",
    "(with intersection of regions and maintaining just remaining valid region)"
   ]
  },
  {
   "cell_type": "code",
   "execution_count": null,
   "metadata": {},
   "outputs": [],
   "source": [
    "@dataclass\n",
    "class Rect:\n",
    "    topleft: complex\n",
    "    width: int\n",
    "    height: int\n",
    "\n",
    "    @property\n",
    "    def botright:\n",
    "        return topleft + width + height*1j\n",
    "\n",
    "    def inside(pt: complex):\n",
    "        return (topleft.real <= pt.real < botright.real) \\\n",
    "            and (topleft.imag <= pt.imag < botright.imag)\n",
    "\n",
    "    def split(pt: complex, radius: int):\n",
    "        y, x = pt.imag, pt.real\n",
    "        top, left = topleft.imag, topleft.real\n",
    "        bot, right = botright.imag, botright.real\n",
    "        if self.inside(pt):  # split into 4 rects and rerun split\n",
    "        elif \n",
    "        else:  # split into 2 tris and boxes\n",
    "            if abs(top - y) <= radius:\n",
    "                if abs(left - x) <= \n",
    "             \n",
    "\n",
    "class Tri:\n",
    "    rightpt: complex\n",
    "    point1: complex\n",
    "    point2: complex"
   ]
  },
  {
   "cell_type": "code",
   "execution_count": null,
   "metadata": {},
   "outputs": [],
   "source": [
    "dim = 4000000\n",
    "regions = [(0,0,)]\n",
    "maxdim = 20 + 1\n",
    "maxdim = 4000000 + 1\n",
    "ar = np.zeros(maxdim, dtype=int)\n",
    "ds = \n",
    "for Y in trange(maxdim):\n",
    "    ar.fill(1)\n",
    "    for ((sx, sy), _), d in zip(lines,ds):\n",
    "        # d = abs(sx - bx) + abs(sy - by)\n",
    "        coverw = d - abs(sy - Y)\n",
    "        if coverw >= 0:\n",
    "            # print(\"found\", Y, coverw, sx-coverw, sx+coverw+1)\n",
    "            ar[max(sx-coverw,0): sx+coverw+1] = 0\n",
    "    if np.count_nonzero(ar):\n",
    "        miss = list(zip(*np.nonzero(ar)))\n",
    "        missx = miss[0][0]\n",
    "        print(missx, Y, missx*4000000 + Y)\n",
    "        break\n",
    "# print(miss)\n",
    "# missy, missx = miss[0]\n",
    "# print(missx * 4000000 + missy)"
   ]
  },
  {
   "attachments": {},
   "cell_type": "markdown",
   "metadata": {},
   "source": [
    "### Attempt 3\n",
    "\n",
    "(modulo region 2d partitioning)"
   ]
  },
  {
   "cell_type": "code",
   "execution_count": 7,
   "metadata": {},
   "outputs": [],
   "source": [
    "from itertools import pairwise"
   ]
  },
  {
   "cell_type": "code",
   "execution_count": 35,
   "metadata": {},
   "outputs": [],
   "source": [
    "# DIM = 20\n",
    "DIM = 4000000\n",
    "dists = {(sx, sy): abs(sx - bx) + abs(sy - by) for (sx, sy), (bx, by) in lines}"
   ]
  },
  {
   "cell_type": "code",
   "execution_count": 36,
   "metadata": {},
   "outputs": [],
   "source": [
    "def make_regions(coords):\n",
    "    prev = 0\n",
    "    inc = [prev]\n",
    "    for coord in sorted(coords):\n",
    "        if coord == prev:\n",
    "            continue\n",
    "        prev = coord\n",
    "        inc.append(prev)\n",
    "    if prev != DIM:\n",
    "        inc.append(prev)\n",
    "    return inc"
   ]
  },
  {
   "cell_type": "code",
   "execution_count": 37,
   "metadata": {},
   "outputs": [],
   "source": [
    "xinc = make_regions(map(itemgetter(0),map(itemgetter(0), lines)))\n",
    "xregs = list(pairwise(xinc))\n",
    "yinc = make_regions(map(itemgetter(1),map(itemgetter(0), lines)))\n",
    "yregs = list(pairwise(yinc))\n",
    "# xregs, yregs"
   ]
  },
  {
   "cell_type": "code",
   "execution_count": 41,
   "metadata": {},
   "outputs": [],
   "source": [
    "def process_region(xlo, xhi, ylo, yhi):\n",
    "    sumhi = xhi + yhi + 1\n",
    "    diffhi = xhi - ylo + 1\n",
    "    sumlo = xlo + ylo - 1\n",
    "    difflo = xlo - yhi - 1\n",
    "    for (xi, yi), di in dists.items():\n",
    "        if xi <= xlo:\n",
    "            if yi <= ylo: # xsign, ysign\n",
    "                sumlo = max(sumlo, xi + yi + di)\n",
    "            else:  # xsign, not ysign\n",
    "                difflo = max(difflo, xi - yi + di)\n",
    "        else:\n",
    "            if yi <= ylo: # not xsign, ysign\n",
    "                diffhi = min(diffhi, xi - yi - di)\n",
    "            else:  # not xsign, not ysign\n",
    "                sumhi = min(sumhi, xi + yi - di)\n",
    "    if sumlo < sumhi - 1 and difflo < diffhi - 1:\n",
    "        # print(f\"for {xlo}<=x<={xhi}, {ylo}<=y<={yhi}:\",\n",
    "            # f\"\\t{sumlo} < sum < {sumhi}\",\n",
    "            # f\"\\t{difflo} < diff < {diffhi}\")\n",
    "        xhi = (sumhi + diffhi)/2\n",
    "        xlo = (sumlo + difflo)/2\n",
    "        yhi = (sumhi - diffhi)/2\n",
    "        ylo = (sumlo - difflo)/2\n",
    "        print(f\"guess: {xlo}<x<{xhi}, {ylo}<y<{yhi}\") \n",
    "        # print(\"##possible region\", xlo, xhi, ylo, yhi)\n",
    "        return True"
   ]
  },
  {
   "cell_type": "code",
   "execution_count": 42,
   "metadata": {},
   "outputs": [
    {
     "name": "stdout",
     "output_type": "stream",
     "text": [
      "guess: -335387.5<x<-32922.0, 3296176.5<y<3577599.0\n",
      "guess: -334882.5<x<-32922.0, 3296176.5<y<3577599.0\n",
      "guess: 184324.5<x<246072.5, 4092974.5<y<4057173.5\n",
      "guess: 184324.5<x<246072.5, 4092974.5<y<4057173.5\n",
      "guess: 3405561.0<x<3405563.0, 3246513.0<y<3246513.0\n",
      "guess: 3405561.0<x<3405563.0, 3246513.0<y<3246513.0\n",
      "guess: 3405561.0<x<3405563.0, 3246513.0<y<3246513.0\n",
      "guess: 3405561.0<x<3405563.0, 3246513.0<y<3246513.0\n",
      "guess: 3405561.0<x<3405563.0, 3246513.0<y<3246513.0\n",
      "guess: 4063958.0<x<4168597.5, 3337736.0<y<3296176.5\n",
      "guess: 4063958.0<x<4319336.5, 3337736.0<y<3296176.5\n",
      "guess: 4063958.0<x<4319336.5, 3337736.0<y<3296176.5\n"
     ]
    }
   ],
   "source": [
    "for xlo, xhi in xregs:\n",
    "    for ylo, yhi in yregs:\n",
    "        res = process_region(xlo, xhi, ylo, yhi)\n",
    "        # if res: break\n",
    "    # if res: break"
   ]
  },
  {
   "cell_type": "code",
   "execution_count": 46,
   "metadata": {},
   "outputs": [],
   "source": [
    "# visually picking out the most reasonable guess\n",
    "# 3405561.0<x<3405563.0, 3246513.0<y<3246513.0\n",
    "x=3405562\n",
    "y=3246513"
   ]
  },
  {
   "cell_type": "code",
   "execution_count": 47,
   "metadata": {},
   "outputs": [
    {
     "data": {
      "text/plain": [
       "13622251246513"
      ]
     },
     "execution_count": 47,
     "metadata": {},
     "output_type": "execute_result"
    }
   ],
   "source": [
    "x*DIM + y"
   ]
  }
 ],
 "metadata": {
  "kernelspec": {
   "display_name": "local-venv",
   "language": "python",
   "name": "local-venv"
  },
  "language_info": {
   "codemirror_mode": {
    "name": "ipython",
    "version": 3
   },
   "file_extension": ".py",
   "mimetype": "text/x-python",
   "name": "python",
   "nbconvert_exporter": "python",
   "pygments_lexer": "ipython3",
   "version": "3.10.6"
  },
  "orig_nbformat": 4
 },
 "nbformat": 4,
 "nbformat_minor": 2
}
