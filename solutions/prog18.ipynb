{
 "cells": [
  {
   "cell_type": "code",
   "execution_count": 1,
   "metadata": {},
   "outputs": [],
   "source": [
    "import re, os, sys\n",
    "from functools import reduce\n",
    "from itertools import combinations as comb, permutations as perm, combinations_with_replacement as combr\n",
    "from operator import itemgetter\n",
    "from pprint import pprint\n",
    "from math import *\n",
    "from collections import defaultdict\n",
    "import networkx as nx\n",
    "import numpy as np\n",
    "\n",
    "def dprint(d):\n",
    "    pprint(dict(d))\n",
    "def lmap(*args, **kwargs):\n",
    "    return list(map(*args, **kwargs))\n",
    "def lmapi(*args, **kwargs):\n",
    "    return list(map(int, *args, **kwargs))\n",
    "def enum(*args, **kwargs):\n",
    "    return enumerate(*args, **kwargs)"
   ]
  },
  {
   "cell_type": "code",
   "execution_count": 34,
   "metadata": {},
   "outputs": [],
   "source": [
    "input_fname = \"../inputs/day18-demo.in\""
   ]
  },
  {
   "cell_type": "code",
   "execution_count": 92,
   "metadata": {},
   "outputs": [],
   "source": [
    "input_fname = \"../inputs/day18.in\""
   ]
  },
  {
   "cell_type": "code",
   "execution_count": 131,
   "metadata": {},
   "outputs": [
    {
     "name": "stdout",
     "output_type": "stream",
     "text": [
      "dim 21\n"
     ]
    }
   ],
   "source": [
    "def reread():\n",
    "    lines = []\n",
    "    with open(input_fname) as ifile:\n",
    "        def r(): return ifile.readline().strip()\n",
    "        def rs(): return ifile.readline().strip().split()\n",
    "        def ri(): return int(ifile.readline().strip())\n",
    "        def ris(): return list(map(int, ifile.readline().strip().split()))\n",
    "\n",
    "        # decide between two possible methods of reading input\n",
    "        \n",
    "        # method 1\n",
    "        dim = 0\n",
    "        for line in ifile:\n",
    "            voxel = lmapi(line.strip().split(\",\"))\n",
    "            dim = max(dim, max(voxel))\n",
    "            lines.append(voxel)\n",
    "        print(\"dim\", dim)\n",
    "        ar = np.zeros((dim, dim, dim), dtype=int)\n",
    "        for x, y, z in lines:\n",
    "            ar[x-1,y-1,z-1] = 1\n",
    "    return ar, len(lines)\n",
    "\n",
    "ar, total = reread()\n",
    "# ar, total"
   ]
  },
  {
   "attachments": {},
   "cell_type": "markdown",
   "metadata": {},
   "source": [
    "## Part 1"
   ]
  },
  {
   "cell_type": "code",
   "execution_count": 114,
   "metadata": {},
   "outputs": [
    {
     "name": "stdout",
     "output_type": "stream",
     "text": [
      "4512\n"
     ]
    }
   ],
   "source": [
    "par = np.pad(ar, 1)\n",
    "shifts = [\n",
    "    [(0,2),(1,1),(1,1)],\n",
    "    [(2,0),(1,1),(1,1)],\n",
    "    [(1,1),(0,2),(1,1)],\n",
    "    [(1,1),(2,0),(1,1)],\n",
    "    [(1,1),(1,1),(0,2)],\n",
    "    [(1,1),(1,1),(2,0)],\n",
    "]\n",
    "hidden = 0\n",
    "for shift in shifts:\n",
    "    shifted = np.pad(ar, shift)\n",
    "    hidden += np.sum(shifted & par)\n",
    "print(total * 6 - hidden)"
   ]
  },
  {
   "cell_type": "markdown",
   "metadata": {},
   "source": [
    "## Part 2"
   ]
  },
  {
   "cell_type": "code",
   "execution_count": 115,
   "metadata": {},
   "outputs": [],
   "source": [
    "def voxel_graph(ar):\n",
    "    g = nx.Graph()\n",
    "    g.add_nodes_from(zip(*np.nonzero(ar)))\n",
    "    for x, y, z in g.nodes:\n",
    "        if (x-1,y,z) in g: g.add_edge((x,y,z), (x-1,y,z))\n",
    "        if (x+1,y,z) in g: g.add_edge((x,y,z), (x+1,y,z))\n",
    "        if (x,y-1,z) in g: g.add_edge((x,y,z), (x,y-1,z))\n",
    "        if (x,y+1,z) in g: g.add_edge((x,y,z), (x,y+1,z))\n",
    "        if (x,y,z-1) in g: g.add_edge((x,y,z), (x,y,z-1))\n",
    "        if (x,y,z+1) in g: g.add_edge((x,y,z), (x,y,z+1))\n",
    "    return g\n",
    "    "
   ]
  },
  {
   "cell_type": "code",
   "execution_count": 124,
   "metadata": {},
   "outputs": [],
   "source": [
    "g = voxel_graph(par)\n",
    "G = voxel_graph(1-par)"
   ]
  },
  {
   "cell_type": "code",
   "execution_count": 125,
   "metadata": {},
   "outputs": [
    {
     "data": {
      "text/plain": [
       "4512"
      ]
     },
     "execution_count": 125,
     "metadata": {},
     "output_type": "execute_result"
    }
   ],
   "source": [
    "total*6- 2*g.number_of_edges()"
   ]
  },
  {
   "cell_type": "code",
   "execution_count": 158,
   "metadata": {},
   "outputs": [
    {
     "data": {
      "text/plain": [
       "34"
      ]
     },
     "execution_count": 158,
     "metadata": {},
     "output_type": "execute_result"
    }
   ],
   "source": [
    "nx.number_connected_components(voxel_graph(ar))"
   ]
  },
  {
   "cell_type": "code",
   "execution_count": 126,
   "metadata": {},
   "outputs": [
    {
     "data": {
      "text/plain": [
       "50"
      ]
     },
     "execution_count": 126,
     "metadata": {},
     "output_type": "execute_result"
    }
   ],
   "source": [
    "nx.number_connected_components(G)-1  # number of holes"
   ]
  },
  {
   "cell_type": "code",
   "execution_count": null,
   "metadata": {},
   "outputs": [],
   "source": [
    "inner_total = 0\n",
    "for comp in nx.connected_components(G):\n",
    "    if (0,0,0) in comp: continue\n",
    "    # if len(comp) > 100: continue\n",
    "    sn = len(comp)\n",
    "    sm = G.subgraph(comp).number_of_edges()\n",
    "    print(sn, sm, 6*sn - 2*sm)\n",
    "    print(sorted(comp))\n",
    "    print()\n",
    "    inner_total += 6*sn - 2*sm\n",
    "print(inner_total)"
   ]
  },
  {
   "cell_type": "code",
   "execution_count": 121,
   "metadata": {},
   "outputs": [
    {
     "data": {
      "text/plain": [
       "7982"
      ]
     },
     "execution_count": 121,
     "metadata": {},
     "output_type": "execute_result"
    }
   ],
   "source": [
    "len(nx.node_connected_component(G, (0,0,0)))"
   ]
  },
  {
   "cell_type": "code",
   "execution_count": null,
   "metadata": {},
   "outputs": [
    {
     "data": {
      "text/plain": [
       "9482"
      ]
     },
     "metadata": {},
     "output_type": "display_data"
    }
   ],
   "source": [
    "23**3 - g.number_of_nodes()"
   ]
  },
  {
   "cell_type": "code",
   "execution_count": null,
   "metadata": {},
   "outputs": [
    {
     "data": {
      "text/plain": [
       "9482"
      ]
     },
     "metadata": {},
     "output_type": "display_data"
    }
   ],
   "source": [
    "sum(len(comp) for comp in nx.connected_components(G))"
   ]
  },
  {
   "cell_type": "code",
   "execution_count": 127,
   "metadata": {},
   "outputs": [
    {
     "data": {
      "text/plain": [
       "2506"
      ]
     },
     "execution_count": 127,
     "metadata": {},
     "output_type": "execute_result"
    }
   ],
   "source": [
    "4512-2006  # too low"
   ]
  },
  {
   "cell_type": "code",
   "execution_count": 128,
   "metadata": {},
   "outputs": [
    {
     "data": {
      "text/plain": [
       "2548"
      ]
     },
     "execution_count": 128,
     "metadata": {},
     "output_type": "execute_result"
    }
   ],
   "source": [
    "4512-1964  # too low"
   ]
  },
  {
   "cell_type": "code",
   "execution_count": 129,
   "metadata": {},
   "outputs": [
    {
     "data": {
      "text/plain": [
       "4506"
      ]
     },
     "execution_count": 129,
     "metadata": {},
     "output_type": "execute_result"
    }
   ],
   "source": [
    "4512-6  # too high"
   ]
  },
  {
   "cell_type": "code",
   "execution_count": 147,
   "metadata": {},
   "outputs": [
    {
     "data": {
      "text/plain": [
       "4206"
      ]
     },
     "execution_count": 147,
     "metadata": {},
     "output_type": "execute_result"
    }
   ],
   "source": [
    "4512-306  # not right"
   ]
  },
  {
   "cell_type": "code",
   "execution_count": 154,
   "metadata": {},
   "outputs": [
    {
     "data": {
      "text/plain": [
       "2854"
      ]
     },
     "execution_count": 154,
     "metadata": {},
     "output_type": "execute_result"
    }
   ],
   "source": [
    "4512-1658  # not right"
   ]
  }
 ],
 "metadata": {
  "kernelspec": {
   "display_name": "local-venv",
   "language": "python",
   "name": "local-venv"
  },
  "orig_nbformat": 4
 },
 "nbformat": 4,
 "nbformat_minor": 2
}
