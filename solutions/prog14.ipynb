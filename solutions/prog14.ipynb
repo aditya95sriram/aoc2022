{
 "cells": [
  {
   "cell_type": "code",
   "execution_count": 13,
   "metadata": {},
   "outputs": [],
   "source": [
    "import re, os, sys\n",
    "from functools import reduce\n",
    "from itertools import combinations as comb, permutations as perm, combinations_with_replacement as combr\n",
    "from operator import itemgetter\n",
    "from pprint import pprint\n",
    "from math import *\n",
    "from collections import defaultdict\n",
    "import networkx as nx\n",
    "import numpy as np\n",
    "from itertools import pairwise\n",
    "\n",
    "def dprint(d):\n",
    "    pprint(dict(d))\n",
    "def lmap(*args, **kwargs):\n",
    "    return list(map(*args, **kwargs))\n",
    "def lmapi(*args, **kwargs):\n",
    "    return list(map(int, *args, **kwargs))\n",
    "def enum(*args, **kwargs):\n",
    "    return enumerate(*args, **kwargs)"
   ]
  },
  {
   "cell_type": "code",
   "execution_count": 91,
   "metadata": {},
   "outputs": [],
   "source": [
    "input_fname = \"../inputs/day14-demo.in\""
   ]
  },
  {
   "cell_type": "code",
   "execution_count": 111,
   "metadata": {},
   "outputs": [],
   "source": [
    "input_fname = \"../inputs/day14.in\""
   ]
  },
  {
   "cell_type": "code",
   "execution_count": 112,
   "metadata": {},
   "outputs": [
    {
     "name": "stdout",
     "output_type": "stream",
     "text": [
      "[[0 0 0 ... 0 0 0]\n",
      " [0 0 0 ... 0 0 0]\n",
      " [0 0 0 ... 0 0 0]\n",
      " ...\n",
      " [0 0 0 ... 0 0 0]\n",
      " [0 0 0 ... 0 0 0]\n",
      " [0 0 0 ... 0 0 0]]\n",
      "11\n"
     ]
    }
   ],
   "source": [
    "def reread():\n",
    "    lines = []\n",
    "    with open(input_fname) as ifile:\n",
    "        def r(): return ifile.readline().strip()\n",
    "        def rs(): return ifile.readline().strip().split()\n",
    "        def ri(): return int(ifile.readline().strip())\n",
    "        def ris(): return list(map(int, ifile.readline().strip().split()))\n",
    "\n",
    "        minx = maxx = miny = maxy = 0\n",
    "        for line in ifile:\n",
    "            pts = line.strip().split(\" -> \")\n",
    "            pts = [lmapi(pt.split(\",\")) for pt in pts]\n",
    "            lines.append(pts)\n",
    "\n",
    "        minx = min(min(map(itemgetter(0), pts)) for pts in lines) - 1\n",
    "        miny = 0 #min(min(map(itemgetter(1), pts)) for pts in lines)\n",
    "        maxx = max(max(map(itemgetter(0), pts)) for pts in lines) + 1\n",
    "        maxy = max(max(map(itemgetter(1), pts)) for pts in lines) + 1\n",
    "\n",
    "        # print(minx, maxx, miny, maxy)\n",
    "\n",
    "        rangex = maxx - minx + 1\n",
    "        rangey = maxy - miny + 1\n",
    "        ar = np.zeros((rangey, rangex), dtype=int)\n",
    "\n",
    "        for pts in lines:\n",
    "            for (x1, y1), (x2, y2) in pairwise(pts):\n",
    "                x1, x2 = min(x1, x2), max(x1, x2)\n",
    "                y1, y2 = min(y1, y2), max(y1, y2)\n",
    "                x1, y1, x2, y2 = x1 - minx, y1 - miny, x2 - minx, y2 - miny\n",
    "                # print(y1,y2+1,x1,x2+1)\n",
    "                ar[y1:y2+1,x1:x2+1] = 1\n",
    "                # print(ar)\n",
    "                # break\n",
    "        print(ar)\n",
    "\n",
    "    origx = 500 - minx\n",
    "    print(origx)\n",
    "    return ar, origx\n",
    "\n",
    "ar, origx = reread()\n",
    "# lines[:10]"
   ]
  },
  {
   "attachments": {},
   "cell_type": "markdown",
   "metadata": {},
   "source": [
    "## Part 1"
   ]
  },
  {
   "cell_type": "code",
   "execution_count": 102,
   "metadata": {},
   "outputs": [
    {
     "name": "stdout",
     "output_type": "stream",
     "text": [
      "done at 24\n",
      "[[0 0 0 0 0 0 0 0 0 0 0 0]\n",
      " [0 0 0 0 0 0 0 0 0 0 0 0]\n",
      " [0 0 0 0 0 0 0 1 0 0 0 0]\n",
      " [0 0 0 0 0 0 1 1 1 0 0 0]\n",
      " [0 0 0 0 0 2 1 1 1 2 2 0]\n",
      " [0 0 0 0 1 2 1 1 1 2 0 0]\n",
      " [0 0 0 2 2 2 1 1 1 2 0 0]\n",
      " [0 0 0 0 0 1 1 1 1 2 0 0]\n",
      " [0 0 1 0 1 1 1 1 1 2 0 0]\n",
      " [0 2 2 2 2 2 2 2 2 2 0 0]\n",
      " [0 0 0 0 0 0 0 0 0 0 0 0]]\n"
     ]
    },
    {
     "data": {
      "text/plain": [
       "24"
      ]
     },
     "execution_count": 102,
     "metadata": {},
     "output_type": "execute_result"
    }
   ],
   "source": [
    "fall = ar.copy()\n",
    "ct = 0\n",
    "done = False\n",
    "while ct < 1000 and not done:\n",
    "    ct += 1\n",
    "    curx, cury = origx, 0\n",
    "    while True:\n",
    "        if max(fall[cury:,curx]) == 0:\n",
    "            print(\"done at\", ct-1)\n",
    "            done = True\n",
    "            break\n",
    "        blocky = cury + np.argmax(fall[cury:,curx])\n",
    "        if fall[blocky,curx-1] == 0:\n",
    "            curx, cury = curx-1, blocky\n",
    "        elif fall[blocky,curx+1] == 0:\n",
    "            curx, cury = curx+1, blocky\n",
    "        else:\n",
    "            fall[blocky-1,curx] = 1\n",
    "            break\n",
    "    # break\n",
    "print(fall+ar)"
   ]
  },
  {
   "cell_type": "markdown",
   "metadata": {},
   "source": [
    "## Part 2"
   ]
  },
  {
   "cell_type": "code",
   "execution_count": 113,
   "metadata": {},
   "outputs": [
    {
     "name": "stdout",
     "output_type": "stream",
     "text": [
      "[[0 0 0 ... 0 0 0]\n",
      " [0 0 0 ... 0 0 0]\n",
      " [0 0 0 ... 0 0 0]\n",
      " ...\n",
      " [0 0 0 ... 0 0 0]\n",
      " [0 0 0 ... 0 0 0]\n",
      " [1 1 1 ... 1 1 1]]\n"
     ]
    }
   ],
   "source": [
    "nr, nc = ar.shape\n",
    "ar2 = np.zeros((nr+1, nc), dtype=int)\n",
    "ar2[:nr,] = ar\n",
    "pad = nr\n",
    "norigx = origx + pad\n",
    "ar2 = np.pad(ar2, [(0,0), (pad, pad)])\n",
    "ar2[-1,] = 1\n",
    "print(ar2)"
   ]
  },
  {
   "cell_type": "code",
   "execution_count": 119,
   "metadata": {},
   "outputs": [
    {
     "name": "stdout",
     "output_type": "stream",
     "text": [
      "[[0 0 0 ... 0 0 0]\n",
      " [0 0 0 ... 0 0 0]\n",
      " [0 0 0 ... 0 0 0]\n",
      " ...\n",
      " [0 0 0 ... 0 0 0]\n",
      " [0 0 0 ... 0 0 0]\n",
      " [2 2 2 ... 2 2 2]]\n",
      "25434\n"
     ]
    }
   ],
   "source": [
    "fall = ar2.copy()\n",
    "ct = 0\n",
    "done = False\n",
    "while ct < 50000 and not done and min(fall[1,norigx-1:norigx+2])==0:\n",
    "    ct += 1\n",
    "    curx, cury = norigx, 0\n",
    "    while True:\n",
    "        if max(fall[cury:,curx]) == 0:\n",
    "            print(\"done at\", ct-1)\n",
    "            done = True\n",
    "            break\n",
    "        blocky = cury + np.argmax(fall[cury:,curx])\n",
    "        if fall[blocky,curx-1] == 0:\n",
    "            curx, cury = curx-1, blocky\n",
    "        elif fall[blocky,curx+1] == 0:\n",
    "            curx, cury = curx+1, blocky\n",
    "        else:\n",
    "            fall[blocky-1,curx] = 1\n",
    "            break\n",
    "    # break\n",
    "print(fall+ar2)\n",
    "print(ct+1)"
   ]
  }
 ],
 "metadata": {
  "kernelspec": {
   "display_name": "local-venv",
   "language": "python",
   "name": "local-venv"
  },
  "language_info": {
   "codemirror_mode": {
    "name": "ipython",
    "version": 3
   },
   "file_extension": ".py",
   "mimetype": "text/x-python",
   "name": "python",
   "nbconvert_exporter": "python",
   "pygments_lexer": "ipython3",
   "version": "3.10.6"
  },
  "orig_nbformat": 4
 },
 "nbformat": 4,
 "nbformat_minor": 2
}
