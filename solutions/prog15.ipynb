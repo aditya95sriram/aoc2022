{
 "cells": [
  {
   "cell_type": "code",
   "execution_count": 1,
   "metadata": {},
   "outputs": [],
   "source": [
    "import re, os, sys\n",
    "from functools import reduce\n",
    "from itertools import combinations as comb, permutations as perm, combinations_with_replacement as combr\n",
    "from operator import itemgetter\n",
    "from pprint import pprint\n",
    "from math import *\n",
    "from collections import defaultdict\n",
    "import networkx as nx\n",
    "import numpy as np\n",
    "\n",
    "def dprint(d):\n",
    "    pprint(dict(d))\n",
    "def lmap(*args, **kwargs):\n",
    "    return list(map(*args, **kwargs))\n",
    "def lmapi(*args, **kwargs):\n",
    "    return list(map(int, *args, **kwargs))\n",
    "def enum(*args, **kwargs):\n",
    "    return enumerate(*args, **kwargs)"
   ]
  },
  {
   "cell_type": "code",
   "execution_count": 85,
   "metadata": {},
   "outputs": [],
   "source": [
    "input_fname = \"../inputs/day15-demo.in\""
   ]
  },
  {
   "cell_type": "code",
   "execution_count": 63,
   "metadata": {},
   "outputs": [],
   "source": [
    "input_fname = \"../inputs/day15.in\""
   ]
  },
  {
   "cell_type": "code",
   "execution_count": 86,
   "metadata": {},
   "outputs": [
    {
     "data": {
      "text/plain": [
       "[((2, 18), (-2, 15)),\n",
       " ((9, 16), (10, 16)),\n",
       " ((13, 2), (15, 3)),\n",
       " ((12, 14), (10, 16)),\n",
       " ((10, 20), (10, 16)),\n",
       " ((14, 17), (10, 16)),\n",
       " ((8, 7), (2, 10)),\n",
       " ((2, 0), (2, 10)),\n",
       " ((0, 11), (2, 10)),\n",
       " ((20, 14), (25, 17))]"
      ]
     },
     "execution_count": 86,
     "metadata": {},
     "output_type": "execute_result"
    }
   ],
   "source": [
    "def reread():\n",
    "    lines = []\n",
    "    with open(input_fname) as ifile:\n",
    "        def r(): return ifile.readline().strip()\n",
    "        def rs(): return ifile.readline().strip().split()\n",
    "        def ri(): return int(ifile.readline().strip())\n",
    "        def ris(): return list(map(int, ifile.readline().strip().split()))\n",
    "\n",
    "        minx = miny = 1000\n",
    "        maxx = maxy = 0\n",
    "        for line in ifile:\n",
    "            line = line.replace(\"Sensor at x=\", \"\") \\\n",
    "                       .replace(\", y=\", \" \") \\\n",
    "                       .replace(\": closest beacon is at x=\", \" \")\n",
    "            sensorx, sensory, beaconx, beacony = lmapi(line.split())\n",
    "            minx = min(minx, sensorx, beaconx)\n",
    "            maxx = max(maxx, sensorx, beaconx)\n",
    "            miny = min(miny, sensory, beacony)\n",
    "            maxy = max(maxy, sensory, beacony)\n",
    "            lines.append(((sensorx, sensory), (beaconx, beacony)))\n",
    "\n",
    "    return minx, maxx, miny, maxy, lines\n",
    "\n",
    "minx, maxx, miny, maxy, lines = reread()\n",
    "lines[:10]"
   ]
  },
  {
   "attachments": {},
   "cell_type": "markdown",
   "metadata": {},
   "source": [
    "## Part 1"
   ]
  },
  {
   "cell_type": "code",
   "execution_count": 31,
   "metadata": {},
   "outputs": [
    {
     "data": {
      "text/plain": [
       "(-645204, 3983949, 1000, 4169166)"
      ]
     },
     "execution_count": 31,
     "metadata": {},
     "output_type": "execute_result"
    }
   ],
   "source": [
    "minx, maxx, miny, maxy"
   ]
  },
  {
   "cell_type": "code",
   "execution_count": 32,
   "metadata": {},
   "outputs": [
    {
     "data": {
      "text/plain": [
       "4724228"
      ]
     },
     "execution_count": 32,
     "metadata": {},
     "output_type": "execute_result"
    }
   ],
   "source": [
    "# ar = np.zeros((maxx-minx+1, maxy-miny+1), dtype=int)\n",
    "intervals = []\n",
    "Y = 10\n",
    "Y = 2000000\n",
    "for (sx, sy), (bx, by) in lines:\n",
    "    d = abs(sx - bx) + abs(sy - by)\n",
    "    coverw = d - abs(sy - Y)\n",
    "    if coverw >= 0:\n",
    "        intervals.append((sx-coverw, sx+coverw+1))\n",
    "minintx = min(map(itemgetter(0), intervals))\n",
    "maxintx = max(map(itemgetter(1), intervals))\n",
    "\n",
    "# print(minintx, intervals)\n",
    "ar = np.zeros(maxintx-minintx+1, dtype=int)\n",
    "for l, r in intervals:\n",
    "    ar[l-minintx: r-minintx] = 1\n",
    "for _, (bx, by) in lines:\n",
    "    if by == Y:\n",
    "        ar[bx] = 0\n",
    "ar.sum()"
   ]
  },
  {
   "cell_type": "markdown",
   "metadata": {},
   "source": [
    "## Part 2"
   ]
  },
  {
   "cell_type": "code",
   "execution_count": 68,
   "metadata": {},
   "outputs": [],
   "source": [
    "from tqdm import trange"
   ]
  },
  {
   "cell_type": "code",
   "execution_count": 83,
   "metadata": {},
   "outputs": [
    {
     "name": "stderr",
     "output_type": "stream",
     "text": [
      "  0%|          | 775/4000001 [00:09<13:26:30, 82.64it/s]\n"
     ]
    },
    {
     "ename": "KeyboardInterrupt",
     "evalue": "",
     "output_type": "error",
     "traceback": [
      "\u001b[0;31m---------------------------------------------------------------------------\u001b[0m",
      "\u001b[0;31mKeyboardInterrupt\u001b[0m                         Traceback (most recent call last)",
      "Cell \u001b[0;32mIn[83], line 6\u001b[0m\n\u001b[1;32m      4\u001b[0m ds \u001b[39m=\u001b[39m [\u001b[39mabs\u001b[39m(sx \u001b[39m-\u001b[39m bx) \u001b[39m+\u001b[39m \u001b[39mabs\u001b[39m(sy \u001b[39m-\u001b[39m by) \u001b[39mfor\u001b[39;00m (sx, sy), (bx, by) \u001b[39min\u001b[39;00m lines]\n\u001b[1;32m      5\u001b[0m \u001b[39mfor\u001b[39;00m Y \u001b[39min\u001b[39;00m trange(maxdim):\n\u001b[0;32m----> 6\u001b[0m     ar\u001b[39m.\u001b[39;49mfill(\u001b[39m1\u001b[39;49m)\n\u001b[1;32m      7\u001b[0m     \u001b[39mfor\u001b[39;00m ((sx, sy), _), d \u001b[39min\u001b[39;00m \u001b[39mzip\u001b[39m(lines,ds):\n\u001b[1;32m      8\u001b[0m         \u001b[39m# d = abs(sx - bx) + abs(sy - by)\u001b[39;00m\n\u001b[1;32m      9\u001b[0m         coverw \u001b[39m=\u001b[39m d \u001b[39m-\u001b[39m \u001b[39mabs\u001b[39m(sy \u001b[39m-\u001b[39m Y)\n",
      "\u001b[0;31mKeyboardInterrupt\u001b[0m: "
     ]
    }
   ],
   "source": [
    "maxdim = 20 + 1\n",
    "maxdim = 4000000 + 1\n",
    "ar = np.zeros(maxdim, dtype=int)\n",
    "ds = [abs(sx - bx) + abs(sy - by) for (sx, sy), (bx, by) in lines]\n",
    "for Y in trange(maxdim):\n",
    "    ar.fill(1)\n",
    "    for ((sx, sy), _), d in zip(lines,ds):\n",
    "        # d = abs(sx - bx) + abs(sy - by)\n",
    "        coverw = d - abs(sy - Y)\n",
    "        if coverw >= 0:\n",
    "            # print(\"found\", Y, coverw, sx-coverw, sx+coverw+1)\n",
    "            ar[max(sx-coverw,0): sx+coverw+1] = 0\n",
    "    if np.count_nonzero(ar):\n",
    "        miss = list(zip(*np.nonzero(ar)))\n",
    "        missx = miss[0][0]\n",
    "        print(missx, Y, missx*4000000 + Y)\n",
    "        break\n",
    "# print(miss)\n",
    "# missy, missx = miss[0]\n",
    "# print(missx * 4000000 + missy)\n"
   ]
  },
  {
   "cell_type": "code",
   "execution_count": 87,
   "metadata": {},
   "outputs": [
    {
     "name": "stderr",
     "output_type": "stream",
     "text": [
      "100%|██████████| 21/21 [00:00<00:00, 12750.49it/s]\n"
     ]
    },
    {
     "data": {
      "text/plain": [
       "array([[1, 1, 1, 1, 1, 1, 2, 2, 2, 2, 2, 1, 2, 1, 2, 1, 1, 1, 1, 1, 1],\n",
       "       [1, 1, 1, 1, 1, 2, 2, 2, 2, 2, 2, 3, 1, 2, 2, 2, 1, 1, 1, 1, 1],\n",
       "       [1, 1, 1, 1, 2, 2, 2, 2, 2, 2, 3, 2, 2, 1, 3, 2, 3, 1, 1, 1, 1],\n",
       "       [1, 1, 1, 2, 2, 2, 2, 2, 2, 2, 1, 2, 2, 3, 2, 4, 2, 2, 1, 1, 1],\n",
       "       [1, 1, 2, 2, 2, 2, 2, 2, 2, 1, 1, 1, 2, 2, 4, 1, 2, 2, 2, 1, 1],\n",
       "       [1, 2, 2, 2, 2, 2, 2, 2, 1, 1, 1, 1, 1, 3, 2, 2, 1, 2, 2, 2, 1],\n",
       "       [2, 2, 2, 2, 2, 2, 2, 1, 1, 1, 1, 1, 2, 2, 2, 2, 2, 1, 2, 2, 3],\n",
       "       [2, 2, 2, 2, 2, 2, 1, 1, 1, 1, 1, 2, 2, 2, 2, 2, 2, 2, 1, 3, 3],\n",
       "       [3, 2, 2, 2, 2, 1, 1, 1, 1, 1, 1, 1, 2, 2, 2, 2, 2, 1, 2, 2, 3],\n",
       "       [1, 3, 2, 2, 1, 1, 1, 1, 1, 1, 1, 1, 1, 2, 2, 2, 1, 2, 2, 2, 1],\n",
       "       [1, 1, 3, 1, 1, 1, 1, 1, 1, 1, 1, 1, 2, 1, 2, 1, 2, 2, 2, 1, 1],\n",
       "       [1, 1, 2, 2, 1, 1, 1, 1, 1, 1, 1, 2, 2, 2, 0, 2, 2, 2, 1, 1, 1],\n",
       "       [1, 2, 2, 1, 1, 1, 1, 1, 1, 1, 2, 2, 2, 1, 3, 1, 2, 1, 1, 1, 1],\n",
       "       [2, 2, 1, 1, 1, 1, 1, 1, 1, 2, 2, 2, 1, 3, 3, 3, 1, 1, 1, 1, 1],\n",
       "       [2, 1, 1, 1, 1, 1, 1, 1, 2, 2, 2, 1, 3, 3, 3, 3, 3, 2, 1, 1, 1],\n",
       "       [1, 1, 1, 1, 1, 1, 1, 1, 1, 3, 1, 2, 2, 3, 3, 3, 3, 3, 2, 1, 1],\n",
       "       [1, 1, 1, 1, 1, 1, 1, 1, 2, 1, 4, 2, 2, 2, 3, 3, 3, 3, 3, 2, 1],\n",
       "       [1, 1, 1, 1, 1, 1, 1, 1, 1, 3, 2, 3, 2, 2, 2, 3, 3, 3, 3, 3, 2],\n",
       "       [1, 1, 1, 1, 1, 1, 1, 1, 2, 2, 2, 2, 3, 2, 2, 2, 3, 3, 3, 2, 2],\n",
       "       [1, 1, 1, 1, 1, 1, 1, 2, 2, 1, 1, 2, 3, 3, 2, 2, 2, 3, 2, 2, 2],\n",
       "       [1, 1, 1, 1, 1, 1, 2, 2, 1, 1, 1, 2, 3, 3, 3, 2, 2, 1, 2, 2, 2]])"
      ]
     },
     "execution_count": 87,
     "metadata": {},
     "output_type": "execute_result"
    }
   ],
   "source": [
    "maxdim = 20 + 1\n",
    "# maxdim = 4000000 + 1\n",
    "ar = np.zeros((maxdim, maxdim), dtype=int)\n",
    "ds = [abs(sx - bx) + abs(sy - by) for (sx, sy), (bx, by) in lines]\n",
    "for Y in trange(maxdim):\n",
    "    # ar.fill(1)\n",
    "    for ((sx, sy), _), d in zip(lines,ds):\n",
    "        # d = abs(sx - bx) + abs(sy - by)\n",
    "        coverw = d - abs(sy - Y)\n",
    "        if coverw >= 0:\n",
    "            # print(\"found\", Y, coverw, sx-coverw, sx+coverw+1)\n",
    "            ar[Y,max(sx-coverw,0): sx+coverw+1] += 1\n",
    "    # if np.count_nonzero(ar):\n",
    "    #     miss = list(zip(*np.nonzero(ar)))\n",
    "    #     missx = miss[0][0]\n",
    "    #     print(missx, Y, missx*4000000 + Y)\n",
    "    #     break\n",
    "# print(miss)\n",
    "# missy, missx = miss[0]\n",
    "# print(missx * 4000000 + missy)\n",
    "ar\n"
   ]
  },
  {
   "cell_type": "code",
   "execution_count": 88,
   "metadata": {},
   "outputs": [],
   "source": [
    "from matplotlib import pyplot as plt"
   ]
  },
  {
   "cell_type": "code",
   "execution_count": 93,
   "metadata": {},
   "outputs": [
    {
     "name": "stdout",
     "output_type": "stream",
     "text": [
      "1 1 1 1 1 1 2 2 2 2 2 1 2 1 2 1 1 1 1 1 1\n",
      "1 1 1 1 1 2 2 2 2 2 2 3 1 2 2 2 1 1 1 1 1\n",
      "1 1 1 1 2 2 2 2 2 2 3 2 2 1 3 2 3 1 1 1 1\n",
      "1 1 1 2 2 2 2 2 2 2 1 2 2 3 2 4 2 2 1 1 1\n",
      "1 1 2 2 2 2 2 2 2 1 1 1 2 2 4 1 2 2 2 1 1\n",
      "1 2 2 2 2 2 2 2 1 1 1 1 1 3 2 2 1 2 2 2 1\n",
      "2 2 2 2 2 2 2 1 1 1 1 1 2 2 2 2 2 1 2 2 3\n",
      "2 2 2 2 2 2 1 1 1 1 1 2 2 2 2 2 2 2 1 3 3\n",
      "3 2 2 2 2 1 1 1 1 1 1 1 2 2 2 2 2 1 2 2 3\n",
      "1 3 2 2 1 1 1 1 1 1 1 1 1 2 2 2 1 2 2 2 1\n",
      "1 1 3 1 1 1 1 1 1 1 1 1 2 1 2 1 2 2 2 1 1\n",
      "1 1 2 2 1 1 1 1 1 1 1 2 2 2 0 2 2 2 1 1 1\n",
      "1 2 2 1 1 1 1 1 1 1 2 2 2 1 3 1 2 1 1 1 1\n",
      "2 2 1 1 1 1 1 1 1 2 2 2 1 3 3 3 1 1 1 1 1\n",
      "2 1 1 1 1 1 1 1 2 2 2 1 3 3 3 3 3 2 1 1 1\n",
      "1 1 1 1 1 1 1 1 1 3 1 2 2 3 3 3 3 3 2 1 1\n",
      "1 1 1 1 1 1 1 1 2 1 4 2 2 2 3 3 3 3 3 2 1\n",
      "1 1 1 1 1 1 1 1 1 3 2 3 2 2 2 3 3 3 3 3 2\n",
      "1 1 1 1 1 1 1 1 2 2 2 2 3 2 2 2 3 3 3 2 2\n",
      "1 1 1 1 1 1 1 2 2 1 1 2 3 3 2 2 2 3 2 2 2\n",
      "1 1 1 1 1 1 2 2 1 1 1 2 3 3 3 2 2 1 2 2 2\n"
     ]
    }
   ],
   "source": [
    "for row in ar:\n",
    "    print(\" \".join(map(str,row)))\n",
    "    print()"
   ]
  },
  {
   "cell_type": "code",
   "execution_count": null,
   "metadata": {},
   "outputs": [],
   "source": []
  }
 ],
 "metadata": {
  "kernelspec": {
   "display_name": "local-venv",
   "language": "python",
   "name": "local-venv"
  },
  "language_info": {
   "codemirror_mode": {
    "name": "ipython",
    "version": 3
   },
   "file_extension": ".py",
   "mimetype": "text/x-python",
   "name": "python",
   "nbconvert_exporter": "python",
   "pygments_lexer": "ipython3",
   "version": "3.10.6"
  },
  "orig_nbformat": 4
 },
 "nbformat": 4,
 "nbformat_minor": 2
}
