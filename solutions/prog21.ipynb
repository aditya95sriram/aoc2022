{
 "cells": [
  {
   "cell_type": "code",
   "execution_count": 1,
   "metadata": {},
   "outputs": [],
   "source": [
    "import re, os, sys\n",
    "from functools import reduce\n",
    "from itertools import combinations as comb, permutations as perm, combinations_with_replacement as combr\n",
    "from operator import itemgetter\n",
    "from pprint import pprint\n",
    "from math import *\n",
    "from collections import defaultdict\n",
    "import networkx as nx\n",
    "import numpy as np\n",
    "\n",
    "def dprint(d):\n",
    "    pprint(dict(d))\n",
    "def lmap(*args, **kwargs):\n",
    "    return list(map(*args, **kwargs))\n",
    "def lmapi(*args, **kwargs):\n",
    "    return list(map(int, *args, **kwargs))\n",
    "def enum(*args, **kwargs):\n",
    "    return enumerate(*args, **kwargs)"
   ]
  },
  {
   "cell_type": "code",
   "execution_count": 48,
   "metadata": {},
   "outputs": [],
   "source": [
    "input_fname = \"../inputs/day21-demo.in\""
   ]
  },
  {
   "cell_type": "code",
   "execution_count": 112,
   "metadata": {},
   "outputs": [],
   "source": [
    "input_fname = \"../inputs/day21.in\""
   ]
  },
  {
   "cell_type": "code",
   "execution_count": 113,
   "metadata": {},
   "outputs": [
    {
     "data": {
      "text/plain": [
       "['qfzv', 'stgm', 'nzpf', 'djpv', 'psrp']"
      ]
     },
     "execution_count": 113,
     "metadata": {},
     "output_type": "execute_result"
    }
   ],
   "source": [
    "def reread():\n",
    "    lines = []\n",
    "    with open(input_fname) as ifile:\n",
    "        def r(): return ifile.readline().strip()\n",
    "        def rs(): return ifile.readline().strip().split()\n",
    "        def ri(): return int(ifile.readline().strip())\n",
    "        def ris(): return list(map(int, ifile.readline().strip().split()))\n",
    "\n",
    "        d = nx.DiGraph()\n",
    "        for line in ifile:\n",
    "            name, operation = line.strip().split(\": \")\n",
    "            if operation.isdigit():\n",
    "                d.add_node(name, const=int(operation))\n",
    "            else:\n",
    "                m1, op, m2 = operation.split()\n",
    "                d.add_node(name, op=operation)\n",
    "                d.add_edge(m1, name)\n",
    "                d.add_edge(m2, name)\n",
    "\n",
    "    return d\n",
    "\n",
    "d = reread()\n",
    "list(d.nodes)[:5]"
   ]
  },
  {
   "cell_type": "code",
   "execution_count": null,
   "metadata": {},
   "outputs": [],
   "source": [
    "dict(d.nodes(data=True))"
   ]
  },
  {
   "attachments": {},
   "cell_type": "markdown",
   "metadata": {},
   "source": [
    "## Part 1"
   ]
  },
  {
   "cell_type": "code",
   "execution_count": 33,
   "metadata": {},
   "outputs": [
    {
     "data": {
      "text/plain": [
       "'hsdb + mwrd'"
      ]
     },
     "execution_count": 33,
     "metadata": {},
     "output_type": "execute_result"
    }
   ],
   "source": [
    "d.nodes[\"root\"][\"op\"]"
   ]
  },
  {
   "cell_type": "code",
   "execution_count": 50,
   "metadata": {},
   "outputs": [],
   "source": [
    "val = dict(d.nodes(data=\"const\"))\n",
    "for node in nx.topological_sort(d):\n",
    "    if val[node] is None:\n",
    "        result = eval(d.nodes[node][\"op\"], None, val)\n",
    "        val[node] = result\n",
    "        "
   ]
  },
  {
   "cell_type": "code",
   "execution_count": 51,
   "metadata": {},
   "outputs": [
    {
     "data": {
      "text/plain": [
       "152.0"
      ]
     },
     "execution_count": 51,
     "metadata": {},
     "output_type": "execute_result"
    }
   ],
   "source": [
    "val[\"root\"]"
   ]
  },
  {
   "cell_type": "markdown",
   "metadata": {},
   "source": [
    "## Part 2"
   ]
  },
  {
   "cell_type": "code",
   "execution_count": 36,
   "metadata": {},
   "outputs": [
    {
     "data": {
      "text/plain": [
       "{'op': 'hsdb + mwrd'}"
      ]
     },
     "execution_count": 36,
     "metadata": {},
     "output_type": "execute_result"
    }
   ],
   "source": [
    "d.nodes[\"root\"]"
   ]
  },
  {
   "cell_type": "code",
   "execution_count": 54,
   "metadata": {},
   "outputs": [
    {
     "data": {
      "text/plain": [
       "True"
      ]
     },
     "execution_count": 54,
     "metadata": {},
     "output_type": "execute_result"
    }
   ],
   "source": [
    "\"humn\" in nx.ancestors(d, \"pppw\")"
   ]
  },
  {
   "cell_type": "code",
   "execution_count": 53,
   "metadata": {},
   "outputs": [
    {
     "data": {
      "text/plain": [
       "False"
      ]
     },
     "execution_count": 53,
     "metadata": {},
     "output_type": "execute_result"
    }
   ],
   "source": [
    "\"humn\" in nx.ancestors(d, \"sjmn\")"
   ]
  },
  {
   "cell_type": "code",
   "execution_count": 43,
   "metadata": {},
   "outputs": [
    {
     "data": {
      "text/plain": [
       "34588563455325.0"
      ]
     },
     "execution_count": 43,
     "metadata": {},
     "output_type": "execute_result"
    }
   ],
   "source": [
    "val[\"mwrd\"]"
   ]
  },
  {
   "cell_type": "code",
   "execution_count": 83,
   "metadata": {},
   "outputs": [
    {
     "data": {
      "text/plain": [
       "<networkx.classes.digraph.DiGraph at 0x7f0614574610>"
      ]
     },
     "execution_count": 83,
     "metadata": {},
     "output_type": "execute_result"
    }
   ],
   "source": [
    "d.subgraph(\"sjmn drzm dbpl hmdt zczc\")"
   ]
  },
  {
   "cell_type": "code",
   "execution_count": 102,
   "metadata": {},
   "outputs": [],
   "source": [
    "def evaluate(d, root):\n",
    "    subd = d.subgraph(list(nx.ancestors(d, root)) + [root])\n",
    "    val = dict(subd.nodes(data=\"const\"))\n",
    "    for node in nx.topological_sort(subd):\n",
    "        if val[node] is None:\n",
    "            result = eval(subd.nodes[node][\"op\"], None, val)\n",
    "            val[node] = result\n",
    "            # print(node, \"=\", result)\n",
    "        if node == root:\n",
    "            return val[node]\n",
    "    print(\"no result found for\", root, subd.nodes, val)"
   ]
  },
  {
   "cell_type": "code",
   "execution_count": 103,
   "metadata": {},
   "outputs": [
    {
     "data": {
      "text/plain": [
       "150"
      ]
     },
     "execution_count": 103,
     "metadata": {},
     "output_type": "execute_result"
    }
   ],
   "source": [
    "evaluate(d, \"sjmn\")"
   ]
  },
  {
   "cell_type": "code",
   "execution_count": 119,
   "metadata": {},
   "outputs": [
    {
     "name": "stdout",
     "output_type": "stream",
     "text": [
      "humn child found for mnfl = cqgp + humn\n",
      "target 3059361894462.0\n",
      "other cqgp 542.0\n"
     ]
    }
   ],
   "source": [
    "cur = \"root\"\n",
    "humn = \"humn\"\n",
    "left, _, right = d.nodes[cur][\"op\"].split()\n",
    "if humn in nx.ancestors(d, left):\n",
    "    cur = left\n",
    "    target = evaluate(d, right)\n",
    "else:\n",
    "    cur = right\n",
    "    target = evaluate(d, left)\n",
    "while True:\n",
    "    # print(\"at node\", cur, \"target\", target)\n",
    "    left, op, right = d.nodes[cur][\"op\"].split()\n",
    "    if humn in nx.ancestors(d, left):\n",
    "        cur = left\n",
    "        ready = right\n",
    "    else:\n",
    "        cur = right\n",
    "        ready = left\n",
    "\n",
    "    if op == \"+\":\n",
    "        newtarget = target - evaluate(d, ready)\n",
    "    elif op == \"*\":\n",
    "        newtarget = target / evaluate(d, ready)\n",
    "    elif op == \"-\":\n",
    "        if ready == left:  # target = ready - newtarget\n",
    "            newtarget = evaluate(d, ready) - target\n",
    "        else:  # target = newtarget - ready\n",
    "            newtarget = target + evaluate(d, ready)\n",
    "    elif op == \"/\":\n",
    "        if ready == left:  # target = ready / newtarget\n",
    "            newtarget = evaluate(d, ready) / target\n",
    "        else:  # target = newtarget / ready\n",
    "            newtarget = target * evaluate(d, ready)\n",
    "    \n",
    "    target = newtarget\n",
    "    if humn in d.nodes[cur][\"op\"]:\n",
    "        print(\"humn child found for\", cur, \"=\", d.nodes[cur][\"op\"])\n",
    "        print(\"target\", target)\n",
    "        left, _, right = d.nodes[cur][\"op\"].split()\n",
    "        if left == humn:\n",
    "            print(\"other\", right, evaluate(d, right))\n",
    "        else:\n",
    "            print(\"other\", left, evaluate(d, left))\n",
    "        break"
   ]
  },
  {
   "cell_type": "code",
   "execution_count": 117,
   "metadata": {},
   "outputs": [
    {
     "data": {
      "text/plain": [
       "3059361893920.0"
      ]
     },
     "execution_count": 117,
     "metadata": {},
     "output_type": "execute_result"
    }
   ],
   "source": [
    "3059361894462.0 - 542"
   ]
  },
  {
   "cell_type": "code",
   "execution_count": 47,
   "metadata": {},
   "outputs": [
    {
     "data": {
      "text/plain": [
       "(90177205187826.53-18.17001180637544j)"
      ]
     },
     "execution_count": 47,
     "metadata": {},
     "output_type": "execute_result"
    }
   ],
   "source": [
    "val[\"hsdb\"]"
   ]
  }
 ],
 "metadata": {
  "kernelspec": {
   "display_name": "local-venv",
   "language": "python",
   "name": "local-venv"
  },
  "language_info": {
   "codemirror_mode": {
    "name": "ipython",
    "version": 3
   },
   "file_extension": ".py",
   "mimetype": "text/x-python",
   "name": "python",
   "nbconvert_exporter": "python",
   "pygments_lexer": "ipython3",
   "version": "3.10.6"
  },
  "orig_nbformat": 4
 },
 "nbformat": 4,
 "nbformat_minor": 2
}
