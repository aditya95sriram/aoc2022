{
 "cells": [
  {
   "cell_type": "code",
   "execution_count": 1,
   "metadata": {},
   "outputs": [],
   "source": [
    "import re, os, sys\n",
    "from functools import reduce\n",
    "from itertools import combinations as comb, permutations as perm, combinations_with_replacement as combr\n",
    "from operator import itemgetter\n",
    "from pprint import pprint\n",
    "from math import *\n",
    "from collections import defaultdict\n",
    "import networkx as nx\n",
    "import numpy as np\n",
    "\n",
    "def dprint(d):\n",
    "    pprint(dict(d))\n",
    "def lmap(*args, **kwargs):\n",
    "    return list(map(*args, **kwargs))\n",
    "def lmapi(*args, **kwargs):\n",
    "    return list(map(int, *args, **kwargs))\n",
    "def enum(*args, **kwargs):\n",
    "    return enumerate(*args, **kwargs)\n"
   ]
  },
  {
   "cell_type": "code",
   "execution_count": 18,
   "metadata": {},
   "outputs": [],
   "source": [
    "input_fname = \"../inputs/day13-demo.in\""
   ]
  },
  {
   "cell_type": "code",
   "execution_count": 15,
   "metadata": {},
   "outputs": [],
   "source": [
    "input_fname = \"../inputs/day13.in\""
   ]
  },
  {
   "cell_type": "code",
   "execution_count": 19,
   "metadata": {},
   "outputs": [],
   "source": [
    "def reread():\n",
    "    pairs = []\n",
    "    with open(input_fname) as ifile:\n",
    "        def r(): return ifile.readline().strip()\n",
    "        def rs(): return ifile.readline().strip().split()\n",
    "        def ri(): return int(ifile.readline().strip())\n",
    "        def ris(): return list(map(int, ifile.readline().strip().split()))\n",
    "\n",
    "        newpair = ()\n",
    "        for line in ifile:\n",
    "            if not line.strip():\n",
    "                pairs.append(newpair)\n",
    "                newpair = ()\n",
    "                continue\n",
    "            \n",
    "            newpair += (eval(line.strip()),)\n",
    "\n",
    "        pairs.append(newpair)\n",
    "\n",
    "    return pairs\n",
    "\n",
    "lines = reread()"
   ]
  },
  {
   "cell_type": "code",
   "execution_count": 9,
   "metadata": {},
   "outputs": [],
   "source": [
    "from itertools import zip_longest\n",
    "\n",
    "def compare(l1, l2):\n",
    "    for i1, i2 in zip_longest(l1, l2, fillvalue=None):\n",
    "        # lists running out\n",
    "        if i1 is None:\n",
    "            return True\n",
    "        elif i2 is None:\n",
    "            return False\n",
    "        \n",
    "        # if not, compare items\n",
    "        if isinstance(i1, int) and isinstance(i2, int):\n",
    "            if i1 < i2:\n",
    "                return True\n",
    "            elif i1 > i2:\n",
    "                return False\n",
    "            # else: continue\n",
    "        elif isinstance(i1, list) and isinstance(i2, list):\n",
    "            res = compare(i1, i2)\n",
    "            if res is None:\n",
    "                continue\n",
    "            else:\n",
    "                return res\n",
    "        else:\n",
    "            if isinstance(i1, int):\n",
    "                i1 = [i1]\n",
    "            if isinstance(i2, int):\n",
    "                i2 = [i2]\n",
    "            res = compare(i1, i2)\n",
    "            if res is None:\n",
    "                continue\n",
    "            else:\n",
    "                return res\n",
    "    return None            "
   ]
  },
  {
   "attachments": {},
   "cell_type": "markdown",
   "metadata": {},
   "source": [
    "## Part 1"
   ]
  },
  {
   "cell_type": "code",
   "execution_count": 17,
   "metadata": {},
   "outputs": [
    {
     "name": "stdout",
     "output_type": "stream",
     "text": [
      "6272\n"
     ]
    }
   ],
   "source": [
    "total = 0\n",
    "for index, (left, right) in enum(lines, start=1):\n",
    "    res = compare(left, right)\n",
    "    if res == True:\n",
    "        # print(index)\n",
    "        total += index\n",
    "print(total)"
   ]
  },
  {
   "cell_type": "markdown",
   "metadata": {},
   "source": [
    "## Part 2"
   ]
  },
  {
   "cell_type": "code",
   "execution_count": 24,
   "metadata": {},
   "outputs": [],
   "source": [
    "g = nx.DiGraph()\n",
    "for index, (left, right) in enum(lines, start=1):\n",
    "    res = compare(left, right)\n",
    "    assert res is not None, f\"indeterminate comparison: {left} vs {right}\"\n",
    "    if res == True:\n",
    "        g.add_edge(str(left), str(right))\n",
    "    elif res == False:\n",
    "        g.add_edge(str(right), str(left))"
   ]
  },
  {
   "cell_type": "code",
   "execution_count": 28,
   "metadata": {},
   "outputs": [],
   "source": [
    "all_packets = []\n",
    "for left, right in lines:\n",
    "    all_packets.extend((left, right))\n",
    "all_packets.append([[2]])\n",
    "all_packets.append([[6]])"
   ]
  },
  {
   "cell_type": "code",
   "execution_count": 30,
   "metadata": {},
   "outputs": [
    {
     "name": "stdout",
     "output_type": "stream",
     "text": [
      "[[],\n",
      " [[]],\n",
      " [[[]]],\n",
      " [1, 1, 3, 1, 1],\n",
      " [1, 1, 5, 1, 1],\n",
      " [[1], [2, 3, 4]],\n",
      " [1, [2, [3, [4, [5, 6, 0]]]], 8, 9],\n",
      " [1, [2, [3, [4, [5, 6, 7]]]], 8, 9],\n",
      " [[1], 4],\n",
      " [[2]],\n",
      " [3],\n",
      " [[4, 4], 4, 4],\n",
      " [[4, 4], 4, 4, 4],\n",
      " [[6]],\n",
      " [7, 7, 7],\n",
      " [7, 7, 7, 7],\n",
      " [[8, 7, 6]],\n",
      " [9]]\n"
     ]
    }
   ],
   "source": [
    "from functools import cmp_to_key\n",
    "def mycmp(a, b):\n",
    "    res = compare(a,b)\n",
    "    if res == True:\n",
    "        return -1\n",
    "    elif res == False:\n",
    "        return 1\n",
    "    else:\n",
    "        return 0\n",
    "s = sorted(all_packets, key=cmp_to_key(mycmp))\n",
    "ls = list(s)\n",
    "pprint(ls)"
   ]
  },
  {
   "cell_type": "code",
   "execution_count": null,
   "metadata": {},
   "outputs": [],
   "source": [
    "prod = 1\n",
    "for i, e in enum(ls, start=1):\n",
    "    if str(e) == str([[2]]) or str(e) == str([[6]]):\n",
    "        prod *= i\n",
    "print(prod)"
   ]
  }
 ],
 "metadata": {
  "kernelspec": {
   "display_name": "local-venv",
   "language": "python",
   "name": "local-venv"
  },
  "language_info": {
   "codemirror_mode": {
    "name": "ipython",
    "version": 3
   },
   "file_extension": ".py",
   "mimetype": "text/x-python",
   "name": "python",
   "nbconvert_exporter": "python",
   "pygments_lexer": "ipython3",
   "version": "3.10.6"
  },
  "orig_nbformat": 4
 },
 "nbformat": 4,
 "nbformat_minor": 2
}
