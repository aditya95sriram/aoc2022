{
 "cells": [
  {
   "cell_type": "code",
   "execution_count": 1,
   "metadata": {},
   "outputs": [],
   "source": [
    "import re, os, sys\n",
    "from functools import reduce\n",
    "from itertools import combinations as comb, permutations as perm, combinations_with_replacement as combr\n",
    "from operator import itemgetter\n",
    "from pprint import pprint\n",
    "from math import *\n",
    "from collections import defaultdict\n",
    "import networkx as nx\n",
    "import numpy as np\n",
    "\n",
    "def dprint(d):\n",
    "    pprint(dict(d))\n",
    "def lmap(*args, **kwargs):\n",
    "    return list(map(*args, **kwargs))\n",
    "def lmapi(*args, **kwargs):\n",
    "    return list(map(int, *args, **kwargs))\n",
    "def enum(*args, **kwargs):\n",
    "    return enumerate(*args, **kwargs)"
   ]
  },
  {
   "cell_type": "code",
   "execution_count": 50,
   "metadata": {},
   "outputs": [],
   "source": [
    "input_fname = \"../inputs/day20-demo.in\""
   ]
  },
  {
   "cell_type": "code",
   "execution_count": 2,
   "metadata": {},
   "outputs": [],
   "source": [
    "input_fname = \"../inputs/day20.in\""
   ]
  },
  {
   "cell_type": "code",
   "execution_count": 3,
   "metadata": {},
   "outputs": [
    {
     "data": {
      "text/plain": [
       "[-6497, -7893, -4653, -1149, 294, 4741, 6402, 9406, -5250, -7657]"
      ]
     },
     "execution_count": 3,
     "metadata": {},
     "output_type": "execute_result"
    }
   ],
   "source": [
    "def reread():\n",
    "    with open(input_fname) as ifile:\n",
    "        return lmapi(ifile.readlines())\n",
    "\n",
    "lines = reread()\n",
    "lines[:10]"
   ]
  },
  {
   "cell_type": "code",
   "execution_count": 4,
   "metadata": {},
   "outputs": [
    {
     "data": {
      "text/plain": [
       "(3623, 5000)"
      ]
     },
     "execution_count": 4,
     "metadata": {},
     "output_type": "execute_result"
    }
   ],
   "source": [
    "n = len(lines)\n",
    "len(set(lines)), len(lines)"
   ]
  },
  {
   "attachments": {},
   "cell_type": "markdown",
   "metadata": {},
   "source": [
    "## Part 1"
   ]
  },
  {
   "cell_type": "code",
   "execution_count": 17,
   "metadata": {},
   "outputs": [
    {
     "name": "stdout",
     "output_type": "stream",
     "text": [
      "0.244\n"
     ]
    }
   ],
   "source": [
    "# mixing\n",
    "orig = list(enum(lines))\n",
    "mixed = orig[:]\n",
    "n = len(orig)\n",
    "from time import perf_counter\n",
    "start = perf_counter()\n",
    "# print(mixed)\n",
    "for i, e in orig:\n",
    "    # cur = mixed.index((i, e))\n",
    "    cur = i if mixed[i] == (i, e) else mixed.index((i, e))\n",
    "    assert cur != -1, \"index returned -1\"\n",
    "    mixed.remove((i,e))\n",
    "    if e == 0:\n",
    "        mixed.insert(cur, e)\n",
    "    else:\n",
    "        mixed.insert((cur+e)%(n-1), e)\n",
    "    # print(mixed)\n",
    "    # break\n",
    "# print(mixed)\n",
    "print(\"%.3f\" % (perf_counter() - start))"
   ]
  },
  {
   "cell_type": "code",
   "execution_count": 18,
   "metadata": {},
   "outputs": [
    {
     "name": "stdout",
     "output_type": "stream",
     "text": [
      "1 zeros\n"
     ]
    },
    {
     "data": {
      "text/plain": [
       "872"
      ]
     },
     "execution_count": 18,
     "metadata": {},
     "output_type": "execute_result"
    }
   ],
   "source": [
    "# coordinates\n",
    "start = mixed.index(0)\n",
    "print(mixed.count(0), \"zeros\")\n",
    "sum(mixed[(start + i*1000)%n] for i in (1,2,3))"
   ]
  },
  {
   "attachments": {},
   "cell_type": "markdown",
   "metadata": {},
   "source": [
    "**Attempts**\n",
    "\n",
    "* 2367 -> too high\n",
    "* 872 -> correct"
   ]
  },
  {
   "cell_type": "markdown",
   "metadata": {},
   "source": [
    "## Part 2"
   ]
  },
  {
   "cell_type": "code",
   "execution_count": 73,
   "metadata": {},
   "outputs": [],
   "source": [
    "KEY=811589153\n",
    "MKEY=KEY%n"
   ]
  },
  {
   "cell_type": "code",
   "execution_count": 74,
   "metadata": {},
   "outputs": [],
   "source": [
    "def mix(lines, repeat=1):\n",
    "    orig = list(enum(lines))\n",
    "    mixed = orig[:]\n",
    "    n = len(orig)\n",
    "    # print(mixed)\n",
    "    for _ in range(repeat):\n",
    "        for i, e in orig:\n",
    "            cur = mixed.index((i, e))\n",
    "            assert cur != -1, \"index returned -1\"\n",
    "            mixed.remove((i,e))\n",
    "            if e == 0:\n",
    "                mixed.insert(cur, (i,e))\n",
    "            else:\n",
    "                mixed.insert((cur+e*KEY)%(n-1), (i,e))\n",
    "        # print(mixed)\n",
    "        # break\n",
    "    # print(mixed))\n",
    "    return mixed"
   ]
  },
  {
   "cell_type": "code",
   "execution_count": 75,
   "metadata": {},
   "outputs": [],
   "source": [
    "final = [e for _, e in mix(lines, repeat=10)]\n"
   ]
  },
  {
   "cell_type": "code",
   "execution_count": 76,
   "metadata": {},
   "outputs": [
    {
     "name": "stdout",
     "output_type": "stream",
     "text": [
      "1 zeros\n"
     ]
    },
    {
     "data": {
      "text/plain": [
       "5382459262696"
      ]
     },
     "execution_count": 76,
     "metadata": {},
     "output_type": "execute_result"
    }
   ],
   "source": [
    "# coordinates\n",
    "start = final.index(0)\n",
    "print(final.count(0), \"zeros\")\n",
    "sum(final[(start + i*1000)%n]*KEY for i in (1,2,3))"
   ]
  }
 ],
 "metadata": {
  "kernelspec": {
   "display_name": "local-venv",
   "language": "python",
   "name": "local-venv"
  },
  "language_info": {
   "codemirror_mode": {
    "name": "ipython",
    "version": 3
   },
   "file_extension": ".py",
   "mimetype": "text/x-python",
   "name": "python",
   "nbconvert_exporter": "python",
   "pygments_lexer": "ipython3",
   "version": "3.10.6"
  },
  "orig_nbformat": 4
 },
 "nbformat": 4,
 "nbformat_minor": 2
}
